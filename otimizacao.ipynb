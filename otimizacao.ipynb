{
  "nbformat": 4,
  "nbformat_minor": 0,
  "metadata": {
    "colab": {
      "provenance": []
    },
    "kernelspec": {
      "name": "python3",
      "display_name": "Python 3"
    },
    "language_info": {
      "name": "python"
    }
  },
  "cells": [
    {
      "cell_type": "code",
      "execution_count": 51,
      "metadata": {
        "colab": {
          "base_uri": "https://localhost:8080/"
        },
        "id": "4Kl8n3wpI5c9",
        "outputId": "d2ec798a-4cd9-4c5e-fdc3-017b4f346998"
      },
      "outputs": [
        {
          "output_type": "stream",
          "name": "stdout",
          "text": [
            "Requirement already satisfied: pyspark in /usr/local/lib/python3.11/dist-packages (3.5.1)\n",
            "Requirement already satisfied: py4j==0.10.9.7 in /usr/local/lib/python3.11/dist-packages (from pyspark) (0.10.9.7)\n"
          ]
        }
      ],
      "source": [
        "# Instala o PySpark (caso esteja rodando no Google Colab ou ambiente que exija instalação manual)\n",
        "!pip install pyspark"
      ]
    },
    {
      "cell_type": "code",
      "source": [
        "# Importa as bibliotecas necessárias\n",
        "import pyspark\n",
        "from pyspark.sql import SparkSession\n",
        "from pyspark.sql.functions import *"
      ],
      "metadata": {
        "id": "Kk1P9claI-B6"
      },
      "execution_count": 52,
      "outputs": []
    },
    {
      "cell_type": "code",
      "source": [
        "# Cria ou obtém a sessão Spark\n",
        "spark = SparkSession.builder.getOrCreate()"
      ],
      "metadata": {
        "id": "kXQF5ztZJDG6"
      },
      "execution_count": 53,
      "outputs": []
    },
    {
      "cell_type": "code",
      "source": [
        "# Leitura do arquivo 'videos-preparados.snappy.parquet'\n",
        "df_video = spark.read.parquet('/content/drive/MyDrive/aulas/videos-preparados-parquet')\n",
        "\n",
        "# Leitura do arquivo 'video-comments-tratados.snappy.parquet'\n",
        "df_comments = spark.read.parquet('/content/drive/MyDrive/aulas/videos-comments-tratados-parquet')"
      ],
      "metadata": {
        "id": "FNkg5kTtJHm-"
      },
      "execution_count": 54,
      "outputs": []
    },
    {
      "cell_type": "code",
      "source": [
        "# Visualiza os dados lidos (opcional)\n",
        "df_video.show()\n",
        "df_comments.show()"
      ],
      "metadata": {
        "colab": {
          "base_uri": "https://localhost:8080/"
        },
        "id": "042mmgvLLHyZ",
        "outputId": "661c175d-b33d-42af-c105-59f16b65eb70"
      },
      "execution_count": 55,
      "outputs": [
        {
          "output_type": "stream",
          "name": "stdout",
          "text": [
            "+--------------------+-----------+------------+----------------+------+--------+---------+-----------+----+-----+-------------+--------------------+--------------------+--------------------+\n",
            "|               Title|   Video ID|Published At|         Keyword| Likes|Comments|    Views|Interaction|Year|Month|Keyword Index|        Features PCA|            Features|     Features Normal|\n",
            "+--------------------+-----------+------------+----------------+------+--------+---------+-----------+----+-----+-------------+--------------------+--------------------+--------------------+\n",
            "|ASMR MUKBANG DOUB...|--ZI0dSbbNU|  2020-04-18|         mukbang|378858|   18860| 17975269|   18372987|2020|    4|         30.0|[-1.7977902050831...|[378858.0,1.79752...|[0.02303716158264...|\n",
            "|Deadly car bomb d...|--hxd1CrOqg|  2022-08-22|            news|  6379|    4853|   808787|     820019|2022|    8|         37.0|[-808813.5260760847]|[6379.0,808787.0,...|[3.87946679100418...|\n",
            "|How Biden&#39;s s...|--ixiTypG8g|  2022-08-24|            news|  1029|    2347|    97434|     100810|2022|    8|         37.0|[-97440.10224928132]|[1029.0,97434.0,2...|[6.26308901995973...|\n",
            "|Celebrating My 40...|-64r1hcxtV4|  2022-05-30|         mukbang| 45628|   17264|  5283664|    5346556|2022|    5|         30.0|[-5283866.7762142...|[45628.0,5283664....|[0.00277454843584...|\n",
            "|Physics Review - ...|-6IgkG5yZfo|  2017-01-02|         physics| 10959|     525|   844015|     855499|2017|    1|          7.0|[-844078.7237127916]|[10959.0,844015.0...|[6.66441317075327...|\n",
            "|Eating ONLY KOREA...|-7hzaGya86g|  2022-07-17|            food| 18957|     566|   702174|     721697|2022|    7|         18.0| [-702313.184912746]|[18957.0,702174.0...|[0.00115277321980...|\n",
            "|19 Year-Old Start...|-8TnsjDRXUE|  2022-08-22|        business|  3232|     580|   188875|     192687|2022|    8|         16.0|[-188896.24800633...|[3232.0,188875.0,...|[1.96588027199318...|\n",
            "|SAT® Tips and Tri...|-9hjdvULDyc|  2022-03-11|             sat|   503|      52|    13591|      14146|2022|    3|         14.0|[-13594.899630536...|[503.0,13591.0,20...|[3.06465715151427...|\n",
            "|I found SECRET RO...|-Cr69sGnrk8|  2022-08-23|       minecraft|  1333|      22|   119487|     120842|2022|    8|         21.0|[-119494.09060715...|[1333.0,119487.0,...|[8.11161238119056...|\n",
            "|DON&#39;T USE DOM...|-D4S6TpnO44|  2022-08-01|        business|   114|       2|     2270|       2386|2022|    8|         16.0|[-2270.911424366425]|[114.0,2270.0,202...|[6.99276929412980...|\n",
            "|NO MORE A FAMILY ...|-EDUPj7Vg7o|  2022-08-23|        reaction|196898|   15525|  1223879|    1436302|2022|    8|         13.0|[-1225560.953487111]|[196898.0,1223879...|[0.01197277635865...|\n",
            "|Data Science Full...|-ETQ97mXXF0|  2019-08-18|    data science|118846|    3501|  3069097|    3191444|2019|    8|          2.0|[-3070020.7128547...|[118846.0,3069097...|[0.00722669262869...|\n",
            "|ZOMBIE GIRL ESCAP...|-EjsCBHEbbk|  2020-11-28|          google|349923|    4082|122994457|  123348462|2020|   11|         29.0|[-1.2299280205446...|[349923.0,1.22994...|[0.02127772002155...|\n",
            "|Making Your First...|-FIu9SGvQZc|  2021-11-10|game development| 18486|     733|   353784|     373003|2021|   11|          3.0|[-353932.4891150418]|[18486.0,353784.0...|[0.00112413326904...|\n",
            "|English Job Inter...|-JNjsOX0N0c|  2021-08-03|       interview| 19630|     515|   621093|     641238|2021|    8|          4.0|[-621241.1683725765]|[19630.0,621093.0...|[0.00119369612185...|\n",
            "|The History Of Ea...|-Jsj7K6E0Fg|  2022-04-13|         history| 11595|    2294|  1487029|    1500918|2022|    4|         12.0|[-1487074.247341227]|[11595.0,1487029....|[7.05114371606340...|\n",
            "|How to Assess ANY...|-Mv5KqtuVrc|  2022-08-24|           chess|    58|      21|      601|        680|2022|    8|         26.0|[-601.4920622490589]|[58.0,601.0,2022....|[3.58759468133615...|\n",
            "|15 Kilo Zayıf Gös...|-NcdEl405KY|  2022-08-23|         mukbang|    -1|     335|    27451|      27785|2022|    8|         30.0|[-27450.05704047606]|[-1.0,27451.0,202...|[0.0,1.2782868003...|\n",
            "|ALL MY EXOTIC ANI...|-QN9kxSUWZo|  2022-07-30|         animals|  6473|     455|   267705|     274633|2022|    7|         38.0|[-267751.5465453751]|[6473.0,267705.0,...|[3.93662507914750...|\n",
            "|All Sports Golf B...|-RmUADCWI4A|  2017-12-04|          sports|867074|   43024|106014469|  106924567|2017|   12|         15.0|[-1.0601800588288...|[867074.0,1.06014...|[0.05272396031050...|\n",
            "+--------------------+-----------+------------+----------------+------+--------+---------+-----------+----+-----+-------------+--------------------+--------------------+--------------------+\n",
            "only showing top 20 rows\n",
            "\n",
            "+-----------+--------------------+------------+-------+-----+--------+-------+-----------+----+--------------------+---------+\n",
            "|   Video ID|               Title|Published At|Keyword|Likes|Comments|  Views|Interaction|Year|             Comment|Sentiment|\n",
            "+-----------+--------------------+------------+-------+-----+--------+-------+-----------+----+--------------------+---------+\n",
            "|wAZZ-UWGVHI|Apple Pay Is Kill...|  2022-08-23|   tech| 3407|     672| 135612|     139691|2022|Let's not forget ...|      1.0|\n",
            "|wAZZ-UWGVHI|Apple Pay Is Kill...|  2022-08-23|   tech| 3407|     672| 135612|     139691|2022|Here in NZ 50% of...|      0.0|\n",
            "|wAZZ-UWGVHI|Apple Pay Is Kill...|  2022-08-23|   tech| 3407|     672| 135612|     139691|2022|I will forever ac...|      2.0|\n",
            "|wAZZ-UWGVHI|Apple Pay Is Kill...|  2022-08-23|   tech| 3407|     672| 135612|     139691|2022|Whenever I go to ...|      0.0|\n",
            "|wAZZ-UWGVHI|Apple Pay Is Kill...|  2022-08-23|   tech| 3407|     672| 135612|     139691|2022|Apple Pay is so c...|      2.0|\n",
            "|wAZZ-UWGVHI|Apple Pay Is Kill...|  2022-08-23|   tech| 3407|     672| 135612|     139691|2022|We’ve been houndi...|      1.0|\n",
            "|wAZZ-UWGVHI|Apple Pay Is Kill...|  2022-08-23|   tech| 3407|     672| 135612|     139691|2022|We only got Apple...|      2.0|\n",
            "|wAZZ-UWGVHI|Apple Pay Is Kill...|  2022-08-23|   tech| 3407|     672| 135612|     139691|2022|For now, I need b...|      1.0|\n",
            "|wAZZ-UWGVHI|Apple Pay Is Kill...|  2022-08-23|   tech| 3407|     672| 135612|     139691|2022|In the United Sta...|      2.0|\n",
            "|wAZZ-UWGVHI|Apple Pay Is Kill...|  2022-08-23|   tech| 3407|     672| 135612|     139691|2022|In Cambodia, we h...|      1.0|\n",
            "|b3x28s61q3c|The most EXPENSIV...|  2022-08-24|   tech|76779|    4306|1758063|    1839148|2022|Wow, you really w...|      2.0|\n",
            "|b3x28s61q3c|The most EXPENSIV...|  2022-08-24|   tech|76779|    4306|1758063|    1839148|2022|The lab is the mo...|      2.0|\n",
            "|b3x28s61q3c|The most EXPENSIV...|  2022-08-24|   tech|76779|    4306|1758063|    1839148|2022|Linus, I'm an eng...|      2.0|\n",
            "|b3x28s61q3c|The most EXPENSIV...|  2022-08-24|   tech|76779|    4306|1758063|    1839148|2022|There used to be ...|      2.0|\n",
            "|b3x28s61q3c|The most EXPENSIV...|  2022-08-24|   tech|76779|    4306|1758063|    1839148|2022|Holy crap. I was ...|      0.0|\n",
            "|b3x28s61q3c|The most EXPENSIV...|  2022-08-24|   tech|76779|    4306|1758063|    1839148|2022|I love the direct...|      2.0|\n",
            "|b3x28s61q3c|The most EXPENSIV...|  2022-08-24|   tech|76779|    4306|1758063|    1839148|2022|I am more excited...|      2.0|\n",
            "|b3x28s61q3c|The most EXPENSIV...|  2022-08-24|   tech|76779|    4306|1758063|    1839148|2022|I adore the worki...|      2.0|\n",
            "|b3x28s61q3c|The most EXPENSIV...|  2022-08-24|   tech|76779|    4306|1758063|    1839148|2022|LMGs growth is ho...|     NULL|\n",
            "|b3x28s61q3c|The most EXPENSIV...|  2022-08-24|   tech|76779|    4306|1758063|    1839148|2022|I love all the pe...|      2.0|\n",
            "+-----------+--------------------+------------+-------+-----+--------+-------+-----------+----+--------------------+---------+\n",
            "only showing top 20 rows\n",
            "\n"
          ]
        }
      ]
    },
    {
      "cell_type": "code",
      "source": [
        "# Mostra a contagem de registros em cada DataFrame\n",
        "print(df_video.count())\n",
        "print(df_comments.count())"
      ],
      "metadata": {
        "colab": {
          "base_uri": "https://localhost:8080/"
        },
        "id": "4GAbb_V1KFiE",
        "outputId": "4e0d1149-85cf-4051-ed64-92c220fa71bd"
      },
      "execution_count": 56,
      "outputs": [
        {
          "output_type": "stream",
          "name": "stdout",
          "text": [
            "1869\n",
            "18409\n"
          ]
        }
      ]
    },
    {
      "cell_type": "code",
      "source": [
        "# Renomeia a coluna 'Video ID' para 'Video_ID' para evitar espaços e facilitar o uso no Spark SQL\n",
        "df_comments = df_comments.withColumnRenamed('Video ID', 'Video_ID')\n",
        "df_video = df_video.withColumnRenamed('Video ID', 'Video_ID')\n",
        "\n",
        "# Cria tabelas temporárias com os dados originais\n",
        "df_video.createOrReplaceTempView('video_temp')\n",
        "df_comments.createOrReplaceTempView('comments_temp')\n",
        "\n",
        "# Realiza o join padrão com as tabelas temporárias\n",
        "join_video_comments = spark.sql(\"\"\"\n",
        "      SELECT v.*\n",
        "      FROM video_temp v\n",
        "      JOIN comments_temp c\n",
        "      ON c.Video_ID = v.Video_ID\n",
        "\"\"\")"
      ],
      "metadata": {
        "id": "jOeexe5LJzGQ"
      },
      "execution_count": 57,
      "outputs": []
    },
    {
      "cell_type": "code",
      "source": [
        "# Repartition — reorganiza os dados para melhorar o paralelismo (divide em 5 partições por 'Video_ID')\n",
        "df_video_r = df_video.repartition(5, 'Video_ID')\n",
        "df_comments_r = df_comments.repartition(5, 'Video_ID')"
      ],
      "metadata": {
        "id": "1si1jlBaLcAL"
      },
      "execution_count": 58,
      "outputs": []
    },
    {
      "cell_type": "code",
      "source": [
        "# Cria tabelas temporárias com os dados reparticionados\n",
        "df_video_r.createOrReplaceTempView('video_temp_r')\n",
        "df_comments_r.createOrReplaceTempView('comments_temp_r')"
      ],
      "metadata": {
        "id": "NroufgFfS5CV"
      },
      "execution_count": 19,
      "outputs": []
    },
    {
      "cell_type": "code",
      "source": [
        "# Realiza o join com os DataFrames reparticionados\n",
        "join_video_comments_r = spark.sql(\"\"\"\n",
        "      SELECT v.*\n",
        "      FROM video_temp_r v\n",
        "      JOIN comments_temp_r c\n",
        "      ON c.Video_ID = v.Video_ID\n",
        "\"\"\")"
      ],
      "metadata": {
        "id": "nNfhSVfdTC5-"
      },
      "execution_count": 34,
      "outputs": []
    },
    {
      "cell_type": "code",
      "source": [
        "# Coalesce — reduz o número de partições (para 1) para otimizar escrita sequencial em disco\n",
        "df_video_c = df_video.coalesce(1)\n",
        "df_comments_c = df_comments.coalesce(1)"
      ],
      "metadata": {
        "id": "L0CMCPVOTihX"
      },
      "execution_count": 26,
      "outputs": []
    },
    {
      "cell_type": "code",
      "source": [
        "# Cria tabelas temporárias com os dados coalescidos\n",
        "df_video_c.createOrReplaceTempView('video_temp_c')\n",
        "df_comments_c.createOrReplaceTempView('comments_temp_c')"
      ],
      "metadata": {
        "id": "cmhIkIfQUAu0"
      },
      "execution_count": 27,
      "outputs": []
    },
    {
      "cell_type": "code",
      "source": [
        "# Realiza o join com os DataFrames coalescidos\n",
        "join_video_comments_c = spark.sql(\"\"\"\n",
        "      SELECT v.*\n",
        "      FROM video_temp_c v\n",
        "      JOIN comments_temp_c c\n",
        "      ON c.Video_ID = v.Video_ID\n",
        "\"\"\")"
      ],
      "metadata": {
        "id": "0Lxk9A39UGg5"
      },
      "execution_count": 33,
      "outputs": []
    },
    {
      "cell_type": "code",
      "source": [
        "# EXPLAIN — analisa o plano de execução dos três joins\n",
        "# Isso mostra como o Spark vai executar cada join (broadcast, shuffle, merge, etc.)\n",
        "join_video_comments.explain()       # Join padrão\n",
        "join_video_comments_r.explain()     # Join com repartição\n",
        "join_video_comments_c.explain()     # Join com coalesce"
      ],
      "metadata": {
        "colab": {
          "base_uri": "https://localhost:8080/"
        },
        "id": "YKOwRKXdUM-T",
        "outputId": "8fe5b9f6-2865-4f29-fb4c-c610ad382af1"
      },
      "execution_count": 59,
      "outputs": [
        {
          "output_type": "stream",
          "name": "stdout",
          "text": [
            "== Physical Plan ==\n",
            "AdaptiveSparkPlan isFinalPlan=false\n",
            "+- Project [Title#1191, Video_ID#1392, Published At#1193, Keyword#1194, Likes#1195, Comments#1196, Views#1197, Interaction#1198, Year#1199, Month#1200, Keyword Index#1201, Features PCA#1202, Features#1203, Features Normal#1204]\n",
            "   +- BroadcastHashJoin [Video_ID#1392], [Video_ID#1380], Inner, BuildLeft, false\n",
            "      :- BroadcastExchange HashedRelationBroadcastMode(List(input[1, string, true]),false), [plan_id=1822]\n",
            "      :  +- Project [Title#1191, Video ID#1192 AS Video_ID#1392, Published At#1193, Keyword#1194, Likes#1195, Comments#1196, Views#1197, Interaction#1198, Year#1199, Month#1200, Keyword Index#1201, Features PCA#1202, Features#1203, Features Normal#1204]\n",
            "      :     +- Filter isnotnull(Video ID#1192)\n",
            "      :        +- FileScan parquet [Title#1191,Video ID#1192,Published At#1193,Keyword#1194,Likes#1195,Comments#1196,Views#1197,Interaction#1198,Year#1199,Month#1200,Keyword Index#1201,Features PCA#1202,Features#1203,Features Normal#1204] Batched: true, DataFilters: [isnotnull(Video ID#1192)], Format: Parquet, Location: InMemoryFileIndex(1 paths)[file:/content/drive/MyDrive/aulas/videos-preparados-parquet], PartitionFilters: [], PushedFilters: [IsNotNull(`Video ID`)], ReadSchema: struct<Title:string,Video ID:string,Published At:date,Keyword:string,Likes:int,Comments:int,Views...\n",
            "      +- Project [Video ID#1219 AS Video_ID#1380]\n",
            "         +- Filter isnotnull(Video ID#1219)\n",
            "            +- FileScan parquet [Video ID#1219] Batched: true, DataFilters: [isnotnull(Video ID#1219)], Format: Parquet, Location: InMemoryFileIndex(1 paths)[file:/content/drive/MyDrive/aulas/videos-comments-tratados-parquet], PartitionFilters: [], PushedFilters: [IsNotNull(`Video ID`)], ReadSchema: struct<Video ID:string>\n",
            "\n",
            "\n",
            "== Physical Plan ==\n",
            "AdaptiveSparkPlan isFinalPlan=false\n",
            "+- Project [Title#78, Video_ID#268, Published At#80, Keyword#81, Likes#82, Comments#83, Views#84, Interaction#85, Year#86, Month#87, Keyword Index#88, Features PCA#89, Features#90, Features Normal#91]\n",
            "   +- BroadcastHashJoin [Video_ID#268], [Video_ID#256], Inner, BuildLeft, false\n",
            "      :- BroadcastExchange HashedRelationBroadcastMode(List(input[1, string, true]),false), [plan_id=712]\n",
            "      :  +- Exchange hashpartitioning(Video_ID#268, 5), REPARTITION_BY_NUM, [plan_id=704]\n",
            "      :     +- Project [Title#78, Video ID#79 AS Video_ID#268, Published At#80, Keyword#81, Likes#82, Comments#83, Views#84, Interaction#85, Year#86, Month#87, Keyword Index#88, Features PCA#89, Features#90, Features Normal#91]\n",
            "      :        +- Filter isnotnull(Video ID#79)\n",
            "      :           +- FileScan parquet [Title#78,Video ID#79,Published At#80,Keyword#81,Likes#82,Comments#83,Views#84,Interaction#85,Year#86,Month#87,Keyword Index#88,Features PCA#89,Features#90,Features Normal#91] Batched: true, DataFilters: [isnotnull(Video ID#79)], Format: Parquet, Location: InMemoryFileIndex(1 paths)[file:/content/drive/MyDrive/aulas/videos-preparados-parquet], PartitionFilters: [], PushedFilters: [IsNotNull(`Video ID`)], ReadSchema: struct<Title:string,Video ID:string,Published At:date,Keyword:string,Likes:int,Comments:int,Views...\n",
            "      +- Exchange hashpartitioning(Video_ID#256, 5), REPARTITION_BY_NUM, [plan_id=708]\n",
            "         +- Project [Video ID#106 AS Video_ID#256]\n",
            "            +- Filter isnotnull(Video ID#106)\n",
            "               +- FileScan parquet [Video ID#106] Batched: true, DataFilters: [isnotnull(Video ID#106)], Format: Parquet, Location: InMemoryFileIndex(1 paths)[file:/content/drive/MyDrive/aulas/videos-comments-tratados-parquet], PartitionFilters: [], PushedFilters: [IsNotNull(`Video ID`)], ReadSchema: struct<Video ID:string>\n",
            "\n",
            "\n",
            "== Physical Plan ==\n",
            "AdaptiveSparkPlan isFinalPlan=false\n",
            "+- Project [Title#78, Video_ID#268, Published At#80, Keyword#81, Likes#82, Comments#83, Views#84, Interaction#85, Year#86, Month#87, Keyword Index#88, Features PCA#89, Features#90, Features Normal#91]\n",
            "   +- BroadcastHashJoin [Video_ID#268], [Video_ID#256], Inner, BuildLeft, false\n",
            "      :- BroadcastExchange HashedRelationBroadcastMode(List(input[1, string, true]),false), [plan_id=747]\n",
            "      :  +- Coalesce 1\n",
            "      :     +- Project [Title#78, Video ID#79 AS Video_ID#268, Published At#80, Keyword#81, Likes#82, Comments#83, Views#84, Interaction#85, Year#86, Month#87, Keyword Index#88, Features PCA#89, Features#90, Features Normal#91]\n",
            "      :        +- Filter isnotnull(Video ID#79)\n",
            "      :           +- FileScan parquet [Title#78,Video ID#79,Published At#80,Keyword#81,Likes#82,Comments#83,Views#84,Interaction#85,Year#86,Month#87,Keyword Index#88,Features PCA#89,Features#90,Features Normal#91] Batched: true, DataFilters: [isnotnull(Video ID#79)], Format: Parquet, Location: InMemoryFileIndex(1 paths)[file:/content/drive/MyDrive/aulas/videos-preparados-parquet], PartitionFilters: [], PushedFilters: [IsNotNull(`Video ID`)], ReadSchema: struct<Title:string,Video ID:string,Published At:date,Keyword:string,Likes:int,Comments:int,Views...\n",
            "      +- Coalesce 1\n",
            "         +- Project [Video ID#106 AS Video_ID#256]\n",
            "            +- Filter isnotnull(Video ID#106)\n",
            "               +- FileScan parquet [Video ID#106] Batched: true, DataFilters: [isnotnull(Video ID#106)], Format: Parquet, Location: InMemoryFileIndex(1 paths)[file:/content/drive/MyDrive/aulas/videos-comments-tratados-parquet], PartitionFilters: [], PushedFilters: [IsNotNull(`Video ID`)], ReadSchema: struct<Video ID:string>\n",
            "\n",
            "\n"
          ]
        }
      ]
    },
    {
      "cell_type": "code",
      "source": [
        "# Otimização — Refaz as etapas 1 a 4, mas agora com boas práticas aplicadas:\n",
        "# Renomeia a coluna para evitar espaços\n",
        "df_video = spark.read.parquet('/content/drive/MyDrive/aulas/videos-preparados-parquet')\n",
        "df_comments = spark.read.parquet('/content/drive/MyDrive/aulas/videos-comments-tratados-parquet')\n",
        "df_video = df_video.withColumnRenamed(\"Video ID\", \"video_id\")\n",
        "df_comments = df_comments.withColumnRenamed(\"Video ID\", \"video_id\")"
      ],
      "metadata": {
        "id": "s-YvyRkwVnGp"
      },
      "execution_count": 60,
      "outputs": []
    },
    {
      "cell_type": "code",
      "source": [
        "# Cria novas tabelas temporárias\n",
        "df_video.createOrReplaceTempView(\"video_temp\")\n",
        "df_comments.createOrReplaceTempView(\"comment_temp\")"
      ],
      "metadata": {
        "id": "bdMzmvtuVwE_"
      },
      "execution_count": 61,
      "outputs": []
    },
    {
      "cell_type": "code",
      "source": [
        "# Realiza o JOIN otimizado:\n",
        "# - Filtra apenas vídeos que têm comentários (DISTINCT video_id)\n",
        "# - Junta com as tabelas definitivas\n",
        "# - Seleciona apenas colunas relevantes\n",
        "join_video_comments = spark.sql(\"\"\"\n",
        "      SELECT v.Title, v.Video_ID, v.Year, v.Interaction, c.Sentiment\n",
        "      FROM video_temp v\n",
        "      JOIN (\n",
        "        SELECT DISTINCT video_id\n",
        "        FROM comment_temp\n",
        "      ) filtro ON filtro.video_id = v.video_id\n",
        "      JOIN comment_temp c\n",
        "      ON c.video_id = v.video_id\n",
        "\"\"\")\n",
        "\n",
        "# Visualiza o resultado final do join\n",
        "join_video_comments.show()\n",
        "\n",
        "# Analisa o plano de execução do join otimizado\n",
        "join_video_comments.explain()"
      ],
      "metadata": {
        "colab": {
          "base_uri": "https://localhost:8080/"
        },
        "id": "-whsrQgfV6L-",
        "outputId": "e5db7af0-7503-496c-880f-aea35305c453"
      },
      "execution_count": 62,
      "outputs": [
        {
          "output_type": "stream",
          "name": "stdout",
          "text": [
            "+--------------------+-----------+----+-----------+---------+\n",
            "|               Title|   Video_ID|Year|Interaction|Sentiment|\n",
            "+--------------------+-----------+----+-----------+---------+\n",
            "|How To Fix a Wate...|115amzVdV44|2020|   53053975|      2.0|\n",
            "|How To Fix a Wate...|115amzVdV44|2020|   53053975|      2.0|\n",
            "|How To Fix a Wate...|115amzVdV44|2020|   53053975|      2.0|\n",
            "|How To Fix a Wate...|115amzVdV44|2020|   53053975|      2.0|\n",
            "|How To Fix a Wate...|115amzVdV44|2020|   53053975|      1.0|\n",
            "|How To Fix a Wate...|115amzVdV44|2020|   53053975|      2.0|\n",
            "|How To Fix a Wate...|115amzVdV44|2020|   53053975|      2.0|\n",
            "|How To Fix a Wate...|115amzVdV44|2020|   53053975|      0.0|\n",
            "|How To Fix a Wate...|115amzVdV44|2020|   53053975|      0.0|\n",
            "|How To Fix a Wate...|115amzVdV44|2020|   53053975|      1.0|\n",
            "|How to Start a Bl...|m7Jw3a7CpNA|2021|     458123|      1.0|\n",
            "|How to Start a Bl...|m7Jw3a7CpNA|2021|     458123|      2.0|\n",
            "|How to Start a Bl...|m7Jw3a7CpNA|2021|     458123|      2.0|\n",
            "|How to Start a Bl...|m7Jw3a7CpNA|2021|     458123|      2.0|\n",
            "|How to Start a Bl...|m7Jw3a7CpNA|2021|     458123|      2.0|\n",
            "|How to Start a Bl...|m7Jw3a7CpNA|2021|     458123|      2.0|\n",
            "|How to Start a Bl...|m7Jw3a7CpNA|2021|     458123|      2.0|\n",
            "|How to Start a Bl...|m7Jw3a7CpNA|2021|     458123|      2.0|\n",
            "|How to Start a Bl...|m7Jw3a7CpNA|2021|     458123|      2.0|\n",
            "|How to Start a Bl...|m7Jw3a7CpNA|2021|     458123|      2.0|\n",
            "+--------------------+-----------+----+-----------+---------+\n",
            "only showing top 20 rows\n",
            "\n",
            "== Physical Plan ==\n",
            "AdaptiveSparkPlan isFinalPlan=false\n",
            "+- Project [Title#1421, Video_ID#1471, Year#1429, Interaction#1428, Sentiment#1510]\n",
            "   +- BroadcastHashJoin [video_id#1471], [video_id#1512], Inner, BuildLeft, false\n",
            "      :- BroadcastExchange HashedRelationBroadcastMode(List(input[1, string, true]),false), [plan_id=2127]\n",
            "      :  +- Project [Title#1421, video_id#1471, Interaction#1428, Year#1429]\n",
            "      :     +- BroadcastHashJoin [video_id#1471], [video_id#1487], Inner, BuildLeft, false\n",
            "      :        :- BroadcastExchange HashedRelationBroadcastMode(List(input[1, string, true]),false), [plan_id=2123]\n",
            "      :        :  +- Project [Title#1421, Video ID#1422 AS video_id#1471, Interaction#1428, Year#1429]\n",
            "      :        :     +- Filter isnotnull(Video ID#1422)\n",
            "      :        :        +- FileScan parquet [Title#1421,Video ID#1422,Interaction#1428,Year#1429] Batched: true, DataFilters: [isnotnull(Video ID#1422)], Format: Parquet, Location: InMemoryFileIndex(1 paths)[file:/content/drive/MyDrive/aulas/videos-preparados-parquet], PartitionFilters: [], PushedFilters: [IsNotNull(`Video ID`)], ReadSchema: struct<Title:string,Video ID:string,Interaction:int,Year:int>\n",
            "      :        +- HashAggregate(keys=[video_id#1487], functions=[])\n",
            "      :           +- Exchange hashpartitioning(video_id#1487, 200), ENSURE_REQUIREMENTS, [plan_id=2120]\n",
            "      :              +- HashAggregate(keys=[video_id#1487], functions=[])\n",
            "      :                 +- Project [Video ID#1449 AS video_id#1487]\n",
            "      :                    +- Filter isnotnull(Video ID#1449)\n",
            "      :                       +- FileScan parquet [Video ID#1449] Batched: true, DataFilters: [isnotnull(Video ID#1449)], Format: Parquet, Location: InMemoryFileIndex(1 paths)[file:/content/drive/MyDrive/aulas/videos-comments-tratados-parquet], PartitionFilters: [], PushedFilters: [IsNotNull(`Video ID`)], ReadSchema: struct<Video ID:string>\n",
            "      +- Project [Video ID#1500 AS video_id#1512, Sentiment#1510]\n",
            "         +- Filter isnotnull(Video ID#1500)\n",
            "            +- FileScan parquet [Video ID#1500,Sentiment#1510] Batched: true, DataFilters: [isnotnull(Video ID#1500)], Format: Parquet, Location: InMemoryFileIndex(1 paths)[file:/content/drive/MyDrive/aulas/videos-comments-tratados-parquet], PartitionFilters: [], PushedFilters: [IsNotNull(`Video ID`)], ReadSchema: struct<Video ID:string,Sentiment:string>\n",
            "\n",
            "\n"
          ]
        }
      ]
    },
    {
      "cell_type": "code",
      "source": [
        "# Salva o resultado otimizado em formato Parquet no Google Drive\n",
        "join_video_comments.write.parquet('/content/drive/MyDrive/aulas/join-video-comments-otimizado')"
      ],
      "metadata": {
        "id": "AuK2I4SFYIuG"
      },
      "execution_count": 48,
      "outputs": []
    },
    {
      "cell_type": "code",
      "source": [
        "# Encerra a sessão Spark\n",
        "spark.stop()"
      ],
      "metadata": {
        "id": "nYVyfh9ZZg95"
      },
      "execution_count": 50,
      "outputs": []
    }
  ]
}