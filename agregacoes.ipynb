{
  "nbformat": 4,
  "nbformat_minor": 0,
  "metadata": {
    "colab": {
      "provenance": []
    },
    "kernelspec": {
      "name": "python3",
      "display_name": "Python 3"
    },
    "language_info": {
      "name": "python"
    }
  },
  "cells": [
    {
      "cell_type": "code",
      "execution_count": 2,
      "metadata": {
        "colab": {
          "base_uri": "https://localhost:8080/"
        },
        "id": "q8vGgrWAQLau",
        "outputId": "7ea9672a-eca0-4644-b84d-ae89d4b11699"
      },
      "outputs": [
        {
          "output_type": "stream",
          "name": "stdout",
          "text": [
            "Requirement already satisfied: pyspark in /usr/local/lib/python3.11/dist-packages (3.5.1)\n",
            "Requirement already satisfied: py4j==0.10.9.7 in /usr/local/lib/python3.11/dist-packages (from pyspark) (0.10.9.7)\n"
          ]
        }
      ],
      "source": [
        "!pip install pyspark"
      ]
    },
    {
      "cell_type": "code",
      "source": [
        "# Importa bibliotecas necessárias do PySpark\n",
        "import pyspark\n",
        "from pyspark.sql import SparkSession  # Para criar a sessão Spark\n",
        "from pyspark.sql.functions import *   # Para funções SQL como avg, max, min, count, format_number etc.\n",
        "from pyspark.sql.window import Window # Para criar janelas para funções de janela"
      ],
      "metadata": {
        "id": "KGRkQZ-KRIuW"
      },
      "execution_count": 28,
      "outputs": []
    },
    {
      "cell_type": "code",
      "source": [
        "# Cria ou obtém uma sessão Spark existente\n",
        "spark = SparkSession.builder.getOrCreate()"
      ],
      "metadata": {
        "id": "Sl-0XKEyRS4S"
      },
      "execution_count": 4,
      "outputs": []
    },
    {
      "cell_type": "code",
      "source": [
        "# Lê o arquivo Parquet com dados preparados dos vídeos, com cabeçalho\n",
        "df_video = spark.read.option('header', True).parquet('/content/drive/MyDrive/aulas/videos-preparados-parquet')\n",
        "# Exibe as primeiras linhas do DataFrame\n",
        "df_video.show()"
      ],
      "metadata": {
        "colab": {
          "base_uri": "https://localhost:8080/"
        },
        "id": "bNbPVOP2R9Ob",
        "outputId": "69b02139-36a9-446c-dfdc-85293f6b519b"
      },
      "execution_count": 5,
      "outputs": [
        {
          "output_type": "stream",
          "name": "stdout",
          "text": [
            "+--------------------+-----------+------------+----------------+------+--------+---------+-----------+----+-----+-------------+--------------------+--------------------+--------------------+\n",
            "|               Title|   Video ID|Published At|         Keyword| Likes|Comments|    Views|Interaction|Year|Month|Keyword Index|        Features PCA|            Features|     Features Normal|\n",
            "+--------------------+-----------+------------+----------------+------+--------+---------+-----------+----+-----+-------------+--------------------+--------------------+--------------------+\n",
            "|ASMR MUKBANG DOUB...|--ZI0dSbbNU|  2020-04-18|         mukbang|378858|   18860| 17975269|   18372987|2020|    4|         30.0|[-1.7977902050831...|[378858.0,1.79752...|[0.02303716158264...|\n",
            "|Deadly car bomb d...|--hxd1CrOqg|  2022-08-22|            news|  6379|    4853|   808787|     820019|2022|    8|         37.0|[-808813.5260760847]|[6379.0,808787.0,...|[3.87946679100418...|\n",
            "|How Biden&#39;s s...|--ixiTypG8g|  2022-08-24|            news|  1029|    2347|    97434|     100810|2022|    8|         37.0|[-97440.10224928132]|[1029.0,97434.0,2...|[6.26308901995973...|\n",
            "|Celebrating My 40...|-64r1hcxtV4|  2022-05-30|         mukbang| 45628|   17264|  5283664|    5346556|2022|    5|         30.0|[-5283866.7762142...|[45628.0,5283664....|[0.00277454843584...|\n",
            "|Physics Review - ...|-6IgkG5yZfo|  2017-01-02|         physics| 10959|     525|   844015|     855499|2017|    1|          7.0|[-844078.7237127916]|[10959.0,844015.0...|[6.66441317075327...|\n",
            "|Eating ONLY KOREA...|-7hzaGya86g|  2022-07-17|            food| 18957|     566|   702174|     721697|2022|    7|         18.0| [-702313.184912746]|[18957.0,702174.0...|[0.00115277321980...|\n",
            "|19 Year-Old Start...|-8TnsjDRXUE|  2022-08-22|        business|  3232|     580|   188875|     192687|2022|    8|         16.0|[-188896.24800633...|[3232.0,188875.0,...|[1.96588027199318...|\n",
            "|SAT® Tips and Tri...|-9hjdvULDyc|  2022-03-11|             sat|   503|      52|    13591|      14146|2022|    3|         14.0|[-13594.899630536...|[503.0,13591.0,20...|[3.06465715151427...|\n",
            "|I found SECRET RO...|-Cr69sGnrk8|  2022-08-23|       minecraft|  1333|      22|   119487|     120842|2022|    8|         21.0|[-119494.09060715...|[1333.0,119487.0,...|[8.11161238119056...|\n",
            "|DON&#39;T USE DOM...|-D4S6TpnO44|  2022-08-01|        business|   114|       2|     2270|       2386|2022|    8|         16.0|[-2270.911424366425]|[114.0,2270.0,202...|[6.99276929412980...|\n",
            "|NO MORE A FAMILY ...|-EDUPj7Vg7o|  2022-08-23|        reaction|196898|   15525|  1223879|    1436302|2022|    8|         13.0|[-1225560.953487111]|[196898.0,1223879...|[0.01197277635865...|\n",
            "|Data Science Full...|-ETQ97mXXF0|  2019-08-18|    data science|118846|    3501|  3069097|    3191444|2019|    8|          2.0|[-3070020.7128547...|[118846.0,3069097...|[0.00722669262869...|\n",
            "|ZOMBIE GIRL ESCAP...|-EjsCBHEbbk|  2020-11-28|          google|349923|    4082|122994457|  123348462|2020|   11|         29.0|[-1.2299280205446...|[349923.0,1.22994...|[0.02127772002155...|\n",
            "|Making Your First...|-FIu9SGvQZc|  2021-11-10|game development| 18486|     733|   353784|     373003|2021|   11|          3.0|[-353932.4891150418]|[18486.0,353784.0...|[0.00112413326904...|\n",
            "|English Job Inter...|-JNjsOX0N0c|  2021-08-03|       interview| 19630|     515|   621093|     641238|2021|    8|          4.0|[-621241.1683725765]|[19630.0,621093.0...|[0.00119369612185...|\n",
            "|The History Of Ea...|-Jsj7K6E0Fg|  2022-04-13|         history| 11595|    2294|  1487029|    1500918|2022|    4|         12.0|[-1487074.247341227]|[11595.0,1487029....|[7.05114371606340...|\n",
            "|How to Assess ANY...|-Mv5KqtuVrc|  2022-08-24|           chess|    58|      21|      601|        680|2022|    8|         26.0|[-601.4920622490589]|[58.0,601.0,2022....|[3.58759468133615...|\n",
            "|15 Kilo Zayıf Gös...|-NcdEl405KY|  2022-08-23|         mukbang|    -1|     335|    27451|      27785|2022|    8|         30.0|[-27450.05704047606]|[-1.0,27451.0,202...|[0.0,1.2782868003...|\n",
            "|ALL MY EXOTIC ANI...|-QN9kxSUWZo|  2022-07-30|         animals|  6473|     455|   267705|     274633|2022|    7|         38.0|[-267751.5465453751]|[6473.0,267705.0,...|[3.93662507914750...|\n",
            "|All Sports Golf B...|-RmUADCWI4A|  2017-12-04|          sports|867074|   43024|106014469|  106924567|2017|   12|         15.0|[-1.0601800588288...|[867074.0,1.06014...|[0.05272396031050...|\n",
            "+--------------------+-----------+------------+----------------+------+--------+---------+-----------+----+-----+-------------+--------------------+--------------------+--------------------+\n",
            "only showing top 20 rows\n",
            "\n"
          ]
        }
      ]
    },
    {
      "cell_type": "code",
      "source": [
        "# Agrupa os dados pelo campo 'Keyword' e conta a quantidade de ocorrências, ordenando pela contagem em ordem decrescente\n",
        "df_video.groupBy('Keyword').count().orderBy(desc('count')).show()"
      ],
      "metadata": {
        "colab": {
          "base_uri": "https://localhost:8080/"
        },
        "id": "OQkLiUFKSE40",
        "outputId": "f77899f8-97ba-4cfd-b6cc-02ffb1ee12d8"
      },
      "execution_count": 6,
      "outputs": [
        {
          "output_type": "stream",
          "name": "stdout",
          "text": [
            "+----------------+-----+\n",
            "|         Keyword|count|\n",
            "+----------------+-----+\n",
            "|             cnn|   50|\n",
            "|       interview|   50|\n",
            "|          crypto|   50|\n",
            "|    data science|   50|\n",
            "|        trolling|   50|\n",
            "|        tutorial|   50|\n",
            "|          marvel|   50|\n",
            "|game development|   50|\n",
            "|         mrbeast|   50|\n",
            "|         physics|   50|\n",
            "|             sat|   49|\n",
            "|         history|   49|\n",
            "|           cubes|   49|\n",
            "|        reaction|   49|\n",
            "|          sports|   49|\n",
            "|            asmr|   49|\n",
            "|computer science|   48|\n",
            "|            food|   48|\n",
            "|          how-to|   48|\n",
            "|machine learning|   48|\n",
            "+----------------+-----+\n",
            "only showing top 20 rows\n",
            "\n"
          ]
        }
      ]
    },
    {
      "cell_type": "code",
      "source": [
        "# Agrupa por 'Keyword' e calcula a média da coluna 'Interaction', formatando com 2 casas decimais,\n",
        "# e ordena pela média de interação em ordem decrescente\n",
        "df_video.groupBy('Keyword') \\\n",
        "        .agg(format_number(avg('Interaction'), 2).alias('Interaction Mean')) \\\n",
        "        .orderBy(desc('Interaction Mean')) \\\n",
        "        .show()"
      ],
      "metadata": {
        "colab": {
          "base_uri": "https://localhost:8080/"
        },
        "id": "sYEL3ksFS34i",
        "outputId": "6b90b61b-8ff2-4d17-80a3-dc48009e51d9"
      },
      "execution_count": 7,
      "outputs": [
        {
          "output_type": "stream",
          "name": "stdout",
          "text": [
            "+----------------+----------------+\n",
            "|         Keyword|Interaction Mean|\n",
            "+----------------+----------------+\n",
            "|         animals|   95,506,608.53|\n",
            "|      literature|      881,726.50|\n",
            "|          sports|    8,695,551.63|\n",
            "|game development|      752,243.56|\n",
            "|         finance|      708,542.95|\n",
            "|          how-to|    7,975,134.50|\n",
            "|        business|    7,310,180.02|\n",
            "|         mrbeast|   68,965,862.82|\n",
            "|        tutorial|    6,936,688.30|\n",
            "|          marvel|    6,834,159.44|\n",
            "|             cnn|      570,650.86|\n",
            "|    data science|      562,465.28|\n",
            "|             bed|   54,382,091.75|\n",
            "|          gaming|      520,080.38|\n",
            "|            food|    5,352,944.10|\n",
            "|          crypto|      413,676.20|\n",
            "|          movies|    4,897,436.32|\n",
            "|         biology|    4,192,382.06|\n",
            "|            lofi|    4,167,085.88|\n",
            "|         physics|    3,795,529.38|\n",
            "+----------------+----------------+\n",
            "only showing top 20 rows\n",
            "\n"
          ]
        }
      ]
    },
    {
      "cell_type": "code",
      "source": [
        "# Agrupa por 'Keyword' e obtém o valor máximo da coluna 'Interaction', formatado com 2 casas decimais,\n",
        "# ordenando em ordem decrescente de interação máxima\n",
        "df_video.groupBy('Keyword') \\\n",
        "        .agg(format_number(max('Interaction'), 2).alias('Rank Interactions')) \\\n",
        "        .orderBy(desc('Rank Interactions')) \\\n",
        "        .show()"
      ],
      "metadata": {
        "colab": {
          "base_uri": "https://localhost:8080/"
        },
        "id": "7zTB6LbYT87t",
        "outputId": "523ffa14-2e3b-4c28-f01a-fd4443540468"
      },
      "execution_count": 8,
      "outputs": [
        {
          "output_type": "stream",
          "name": "stdout",
          "text": [
            "+----------------+-----------------+\n",
            "|         Keyword|Rank Interactions|\n",
            "+----------------+-----------------+\n",
            "|           music|   922,551,152.00|\n",
            "|         finance|     9,677,571.00|\n",
            "|         mukbang|    87,433,858.00|\n",
            "|            lofi|    86,445,177.00|\n",
            "|          gaming|     7,385,105.00|\n",
            "|computer science|     7,199,563.00|\n",
            "|        tutorial|    69,616,442.00|\n",
            "|          movies|    65,253,870.00|\n",
            "|game development|     6,692,070.00|\n",
            "|          marvel|    56,247,330.00|\n",
            "|             bed|   532,691,631.00|\n",
            "|          how-to|    53,053,975.00|\n",
            "|            food|    48,754,479.00|\n",
            "|         history|   440,187,490.00|\n",
            "|         physics|    43,463,298.00|\n",
            "|           apple|   429,916,936.00|\n",
            "|      literature|     4,294,863.00|\n",
            "|            asmr|    34,411,125.00|\n",
            "|        nintendo|    32,268,486.00|\n",
            "|         mrbeast|   300,397,699.00|\n",
            "+----------------+-----------------+\n",
            "only showing top 20 rows\n",
            "\n"
          ]
        }
      ]
    },
    {
      "cell_type": "code",
      "source": [
        "# Agrupa por 'Keyword' e calcula a média e a variância da coluna 'Views', formatando os números,\n",
        "# e ordena pelo nome da palavra-chave em ordem decrescente\n",
        "df_video.groupBy('Keyword') \\\n",
        "        .agg(\n",
        "            format_number(avg('Views'), 2).alias('Views Mean'),\n",
        "            format_number(variance('Views'), 2).alias('Variance Views')\n",
        "        ) \\\n",
        "        .orderBy(desc('Keyword')) \\\n",
        "        .show()"
      ],
      "metadata": {
        "colab": {
          "base_uri": "https://localhost:8080/"
        },
        "id": "S7RYSqwqUrob",
        "outputId": "f71ba36e-0c54-481c-dff0-aa8351ffbc2e"
      },
      "execution_count": 9,
      "outputs": [
        {
          "output_type": "stream",
          "name": "stdout",
          "text": [
            "+----------------+-------------+--------------------+\n",
            "|         Keyword|   Views Mean|      Variance Views|\n",
            "+----------------+-------------+--------------------+\n",
            "|            xbox| 1,739,205.85|18,418,777,237,37...|\n",
            "|        tutorial| 6,761,032.02|136,962,659,686,4...|\n",
            "|        trolling| 1,420,141.02|6,932,651,793,973.29|\n",
            "|            tech| 1,918,806.94|6,469,796,473,930.02|\n",
            "|          sports| 8,601,204.73|309,771,202,558,8...|\n",
            "|             sat| 1,065,868.71|8,285,094,966,049.21|\n",
            "|        reaction|   149,439.94|   94,551,525,626.39|\n",
            "|         physics| 3,692,387.28|47,414,096,705,62...|\n",
            "|        nintendo| 1,665,042.25|22,531,339,745,29...|\n",
            "|            news|   247,492.18|  106,751,257,667.26|\n",
            "|           music|29,364,893.26|19,247,971,071,87...|\n",
            "|         mukbang|10,904,772.36|558,607,323,897,3...|\n",
            "|         mrbeast|66,764,003.98|3,824,123,679,605...|\n",
            "|          movies| 4,862,426.45|151,688,590,780,7...|\n",
            "|       minecraft| 1,784,606.79|24,351,962,909,48...|\n",
            "|   mathchemistry| 3,328,125.27|24,914,670,652,56...|\n",
            "|          marvel| 6,614,079.56|144,026,680,526,2...|\n",
            "|machine learning| 1,293,040.23|6,163,769,196,158.56|\n",
            "|            lofi| 4,089,363.00|184,620,964,147,6...|\n",
            "|      literature|   863,021.24|  938,052,188,420.59|\n",
            "+----------------+-------------+--------------------+\n",
            "only showing top 20 rows\n",
            "\n"
          ]
        }
      ]
    },
    {
      "cell_type": "code",
      "source": [
        "# Agrupa por 'Keyword' e calcula a média, o valor máximo e o valor mínimo da coluna 'Views',\n",
        "# formatando os números e ordenando pelo nome da palavra-chave em ordem decrescente\n",
        "df_video.groupBy('Keyword') \\\n",
        "        .agg(\n",
        "            format_number(avg('Views'), 2).alias('Views Mean'),\n",
        "            format_number(max('Views'), 0).alias('Higher Views'),\n",
        "            format_number(min('Views'), 0).alias('Lower Views')\n",
        "          ) \\\n",
        "        .orderBy(desc('Keyword')) \\\n",
        "        .show()"
      ],
      "metadata": {
        "colab": {
          "base_uri": "https://localhost:8080/"
        },
        "id": "BFYsSgG-WLBy",
        "outputId": "7fd1bbdf-de13-4c53-cca7-d2f2594564ec"
      },
      "execution_count": 10,
      "outputs": [
        {
          "output_type": "stream",
          "name": "stdout",
          "text": [
            "+----------------+-------------+------------+-----------+\n",
            "|         Keyword|   Views Mean|Higher Views|Lower Views|\n",
            "+----------------+-------------+------------+-----------+\n",
            "|            xbox| 1,739,205.85|  22,439,610|      4,368|\n",
            "|        tutorial| 6,761,032.02|  68,512,549|     19,323|\n",
            "|        trolling| 1,420,141.02|  14,286,302|      5,388|\n",
            "|            tech| 1,918,806.94|  11,422,924|      3,461|\n",
            "|          sports| 8,601,204.73| 106,014,469|        867|\n",
            "|             sat| 1,065,868.71|  18,116,954|      7,163|\n",
            "|        reaction|   149,439.94|   1,765,945|      9,533|\n",
            "|         physics| 3,692,387.28|  42,252,029|     30,388|\n",
            "|        nintendo| 1,665,042.25|  31,667,627|      2,225|\n",
            "|            news|   247,492.18|   1,465,011|     10,642|\n",
            "|           music|29,364,893.26| 915,457,091|      2,944|\n",
            "|         mukbang|10,904,772.36|  86,169,225|      3,618|\n",
            "|         mrbeast|66,764,003.98| 285,526,909|    889,300|\n",
            "|          movies| 4,862,426.45|  65,067,408|      2,758|\n",
            "|       minecraft| 1,784,606.79|  23,169,378|     22,525|\n",
            "|   mathchemistry| 3,328,125.27|  18,496,859|         25|\n",
            "|          marvel| 6,614,079.56|  54,583,132|      2,813|\n",
            "|machine learning| 1,293,040.23|  11,814,893|          0|\n",
            "|            lofi| 4,089,363.00|  84,747,957|      6,817|\n",
            "|      literature|   863,021.24|   4,231,789|      2,847|\n",
            "+----------------+-------------+------------+-----------+\n",
            "only showing top 20 rows\n",
            "\n"
          ]
        }
      ]
    },
    {
      "cell_type": "code",
      "source": [
        "# Agrupa por 'Keyword' e obtém as primeiras e últimas datas de publicação ('Published At')\n",
        "df_video.groupBy('Keyword') \\\n",
        "        .agg(\n",
        "            first('Published At').alias('First Published At'),\n",
        "            last('Published At').alias('Last Published At')\n",
        "        ) \\\n",
        "        .show()"
      ],
      "metadata": {
        "colab": {
          "base_uri": "https://localhost:8080/"
        },
        "id": "EN2osZhYYBhq",
        "outputId": "546d51d2-708b-4224-f21b-de08e065a77b"
      },
      "execution_count": 14,
      "outputs": [
        {
          "output_type": "stream",
          "name": "stdout",
          "text": [
            "+----------------+------------------+-----------------+\n",
            "|         Keyword|First Published At|Last Published At|\n",
            "+----------------+------------------+-----------------+\n",
            "|computer science|        2022-02-08|       2020-09-08|\n",
            "|            lofi|        2022-06-07|       2020-07-19|\n",
            "|         finance|        2020-09-23|       2017-12-31|\n",
            "|             cnn|        2022-08-17|       2022-08-13|\n",
            "|           apple|        2022-08-22|       2022-08-02|\n",
            "|            news|        2022-08-22|       2022-08-23|\n",
            "|         mukbang|        2020-04-18|       2022-08-24|\n",
            "|       education|        2015-02-06|       2010-10-14|\n",
            "|       interview|        2021-08-03|       2018-10-05|\n",
            "|          crypto|        2022-08-23|       2022-08-22|\n",
            "|   mathchemistry|        2020-08-11|       2019-10-04|\n",
            "|            food|        2022-07-17|       2022-08-20|\n",
            "|    data science|        2019-08-18|       2021-08-06|\n",
            "|        trolling|        2022-08-23|       2022-07-20|\n",
            "|        tutorial|        2018-06-01|       2022-08-17|\n",
            "|      literature|        2016-08-05|       2016-01-15|\n",
            "|             sat|        2022-03-11|       2016-06-16|\n",
            "|         history|        2022-04-13|       2016-01-26|\n",
            "|           cubes|        2022-04-20|       2021-12-03|\n",
            "|           music|        2022-02-08|       2022-01-25|\n",
            "+----------------+------------------+-----------------+\n",
            "only showing top 20 rows\n",
            "\n"
          ]
        }
      ]
    },
    {
      "cell_type": "code",
      "source": [
        "# Conta o total de títulos no DataFrame (pode conter duplicados)\n",
        "total_titles = df_video.select('Title').count()\n",
        "print(f\"Total Titles: {total_titles}\")\n",
        "\n",
        "# Conta o número de títulos únicos no DataFrame (sem duplicados)\n",
        "unique_titles = df_video.select('Title').distinct().count()\n",
        "print(f\"Unique Titles: {unique_titles}\")"
      ],
      "metadata": {
        "colab": {
          "base_uri": "https://localhost:8080/"
        },
        "id": "nFZslkWZZIcE",
        "outputId": "6bf94772-ae9f-4504-eb00-e5a6fec68016"
      },
      "execution_count": 17,
      "outputs": [
        {
          "output_type": "stream",
          "name": "stdout",
          "text": [
            "Total Titles: 1869\n",
            "Unique Titles: 1854\n"
          ]
        }
      ]
    },
    {
      "cell_type": "code",
      "source": [
        "# Agrupa por 'Year' e conta o total de vídeos por ano, ordenando por ano ascendente\n",
        "df_video.groupBy('Year') \\\n",
        "        .agg(count('*').alias('Total Videos Per Year')) \\\n",
        "        .orderBy('Year') \\\n",
        "        .show()"
      ],
      "metadata": {
        "colab": {
          "base_uri": "https://localhost:8080/"
        },
        "id": "85NhQvB4aK8d",
        "outputId": "f4d67c4f-2c84-4a00-bbfe-f72a7ddd2913"
      },
      "execution_count": 20,
      "outputs": [
        {
          "output_type": "stream",
          "name": "stdout",
          "text": [
            "+----+---------------------+\n",
            "|Year|Total Videos Per Year|\n",
            "+----+---------------------+\n",
            "|2007|                    2|\n",
            "|2008|                    1|\n",
            "|2009|                    9|\n",
            "|2010|                    6|\n",
            "|2011|                    4|\n",
            "|2012|                   12|\n",
            "|2013|                    6|\n",
            "|2014|                   10|\n",
            "|2015|                   15|\n",
            "|2016|                   34|\n",
            "|2017|                   47|\n",
            "|2018|                   57|\n",
            "|2019|                   86|\n",
            "|2020|                  158|\n",
            "|2021|                  229|\n",
            "|2022|                 1193|\n",
            "+----+---------------------+\n",
            "\n"
          ]
        }
      ]
    },
    {
      "cell_type": "code",
      "source": [
        "# Converte as colunas 'Year' e 'Month' para tipo inteiro, para facilitar ordenação e cálculos\n",
        "df_video = df_video.withColumn('Year', col('Year').cast('int'))\n",
        "df_video = df_video.withColumn('Month', col('Month').cast('int'))\n",
        "\n",
        "# Agrupa por 'Year' e 'Month', conta total de vídeos por combinação ano-mês,\n",
        "# ordena os resultados por ano e mês em ordem crescente e exibe até 100 linhas\n",
        "df_video.groupBy('Year', 'Month') \\\n",
        "        .agg(count('*').alias('Total Videos Per Year And Month')) \\\n",
        "        .orderBy(col('Year').asc(), col('Month').asc()) \\\n",
        "        .show(100)"
      ],
      "metadata": {
        "colab": {
          "base_uri": "https://localhost:8080/"
        },
        "id": "Jvv5wO4Fa-uQ",
        "outputId": "01dd2097-2e1e-4b8f-82dd-1a9a7f781f35"
      },
      "execution_count": 27,
      "outputs": [
        {
          "output_type": "stream",
          "name": "stdout",
          "text": [
            "+----+-----+-------------------------------+\n",
            "|Year|Month|Total Videos Per Year And Month|\n",
            "+----+-----+-------------------------------+\n",
            "|2007|    7|                              1|\n",
            "|2007|   12|                              1|\n",
            "|2008|    7|                              1|\n",
            "|2009|    2|                              2|\n",
            "|2009|    6|                              2|\n",
            "|2009|    7|                              1|\n",
            "|2009|    8|                              1|\n",
            "|2009|   10|                              1|\n",
            "|2009|   12|                              2|\n",
            "|2010|    3|                              1|\n",
            "|2010|    5|                              2|\n",
            "|2010|    6|                              1|\n",
            "|2010|    9|                              1|\n",
            "|2010|   10|                              1|\n",
            "|2011|    2|                              1|\n",
            "|2011|    5|                              1|\n",
            "|2011|    9|                              1|\n",
            "|2011|   10|                              1|\n",
            "|2012|    1|                              1|\n",
            "|2012|    2|                              3|\n",
            "|2012|    3|                              2|\n",
            "|2012|    4|                              1|\n",
            "|2012|    6|                              1|\n",
            "|2012|    8|                              1|\n",
            "|2012|   10|                              1|\n",
            "|2012|   11|                              2|\n",
            "|2013|    3|                              1|\n",
            "|2013|    4|                              2|\n",
            "|2013|    5|                              2|\n",
            "|2013|    6|                              1|\n",
            "|2014|    2|                              1|\n",
            "|2014|    4|                              2|\n",
            "|2014|    7|                              2|\n",
            "|2014|    8|                              2|\n",
            "|2014|    9|                              2|\n",
            "|2014|   12|                              1|\n",
            "|2015|    1|                              1|\n",
            "|2015|    2|                              1|\n",
            "|2015|    3|                              1|\n",
            "|2015|    4|                              1|\n",
            "|2015|    5|                              2|\n",
            "|2015|    6|                              1|\n",
            "|2015|    7|                              1|\n",
            "|2015|    8|                              1|\n",
            "|2015|    9|                              2|\n",
            "|2015|   10|                              2|\n",
            "|2015|   11|                              1|\n",
            "|2015|   12|                              1|\n",
            "|2016|    1|                              4|\n",
            "|2016|    2|                              3|\n",
            "|2016|    3|                              2|\n",
            "|2016|    4|                              3|\n",
            "|2016|    5|                              4|\n",
            "|2016|    6|                              3|\n",
            "|2016|    7|                              1|\n",
            "|2016|    8|                              4|\n",
            "|2016|    9|                              3|\n",
            "|2016|   10|                              1|\n",
            "|2016|   11|                              5|\n",
            "|2016|   12|                              1|\n",
            "|2017|    1|                              4|\n",
            "|2017|    2|                              8|\n",
            "|2017|    3|                              6|\n",
            "|2017|    4|                              1|\n",
            "|2017|    5|                              6|\n",
            "|2017|    6|                              1|\n",
            "|2017|    8|                              6|\n",
            "|2017|    9|                              3|\n",
            "|2017|   10|                              5|\n",
            "|2017|   11|                              2|\n",
            "|2017|   12|                              5|\n",
            "|2018|    1|                              7|\n",
            "|2018|    2|                              5|\n",
            "|2018|    3|                              3|\n",
            "|2018|    4|                              4|\n",
            "|2018|    6|                              7|\n",
            "|2018|    7|                              5|\n",
            "|2018|    8|                              6|\n",
            "|2018|    9|                              7|\n",
            "|2018|   10|                              5|\n",
            "|2018|   11|                              5|\n",
            "|2018|   12|                              3|\n",
            "|2019|    1|                              6|\n",
            "|2019|    2|                              3|\n",
            "|2019|    3|                              4|\n",
            "|2019|    4|                              4|\n",
            "|2019|    5|                              8|\n",
            "|2019|    6|                              9|\n",
            "|2019|    7|                             10|\n",
            "|2019|    8|                              6|\n",
            "|2019|    9|                              5|\n",
            "|2019|   10|                             11|\n",
            "|2019|   11|                             10|\n",
            "|2019|   12|                             10|\n",
            "|2020|    1|                              3|\n",
            "|2020|    2|                              8|\n",
            "|2020|    3|                             14|\n",
            "|2020|    4|                             12|\n",
            "|2020|    5|                              9|\n",
            "|2020|    6|                             14|\n",
            "+----+-----+-------------------------------+\n",
            "only showing top 100 rows\n",
            "\n"
          ]
        }
      ]
    },
    {
      "cell_type": "code",
      "source": [
        "# Define uma janela para cálculo acumulado por 'Keyword' ordenado por 'Year'\n",
        "# Essa janela considera todas as linhas anteriores e a linha atual (cumulative)\n",
        "window = Window.partitionBy('Keyword').orderBy('Year') \\\n",
        "          .rowsBetween(Window.unboundedPreceding, Window.currentRow)\n",
        "\n",
        "# Cria uma nova coluna 'Cumulative Avg Likes' com a média acumulada da coluna 'Likes' por palavra-chave ao longo dos anos\n",
        "df_resultado = df_video.withColumn('Cumulative Avg Likes', avg('Likes').over(window))\n",
        "\n",
        "# Exibe as colunas 'Keyword', 'Year', 'Likes' e 'Cumulative Avg Likes', ordenadas por ano\n",
        "df_resultado.select('Keyword', 'Year', 'Likes', 'Cumulative Avg Likes') \\\n",
        "          .orderBy('Year') \\\n",
        "          .show()"
      ],
      "metadata": {
        "colab": {
          "base_uri": "https://localhost:8080/"
        },
        "id": "DtCh9jGXcqc-",
        "outputId": "3011c023-e642-4f07-957e-403c3263eef2"
      },
      "execution_count": 31,
      "outputs": [
        {
          "output_type": "stream",
          "name": "stdout",
          "text": [
            "+----------------+----+-------+--------------------+\n",
            "|         Keyword|Year|  Likes|Cumulative Avg Likes|\n",
            "+----------------+----+-------+--------------------+\n",
            "|             bed|2007| 515049|            515049.0|\n",
            "|             bed|2007| 119272|            317160.5|\n",
            "|       education|2008|  50074|             50074.0|\n",
            "|         biology|2009| 132214|             75283.5|\n",
            "|         animals|2009|1357197|           1357197.0|\n",
            "|             bed|2009|1430457|   688259.3333333334|\n",
            "|             bed|2009|1072689|           784366.75|\n",
            "|             bed|2009| 160501|            659593.6|\n",
            "|computer science|2009|  61813|             61813.0|\n",
            "|         biology|2009|  18353|             18353.0|\n",
            "|        business|2009| 229141|            229141.0|\n",
            "|           cubes|2009|2307773|           2307773.0|\n",
            "|         animals|2010| 338601|            587977.0|\n",
            "|             bed|2010| 144517|            573747.5|\n",
            "|         animals|2010|  68133|            712665.0|\n",
            "|       education|2010| 130817|             90445.5|\n",
            "|      literature|2010|  11675|             11675.0|\n",
            "|      literature|2010|   2766|              7220.5|\n",
            "|             bed|2011| 361395|   543411.4285714285|\n",
            "|             bed|2011|1171433|          621914.125|\n",
            "+----------------+----+-------+--------------------+\n",
            "only showing top 20 rows\n",
            "\n"
          ]
        }
      ]
    }
  ]
}