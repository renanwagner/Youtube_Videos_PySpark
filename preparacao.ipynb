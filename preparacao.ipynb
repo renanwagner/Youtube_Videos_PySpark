{
  "nbformat": 4,
  "nbformat_minor": 0,
  "metadata": {
    "colab": {
      "provenance": []
    },
    "kernelspec": {
      "name": "python3",
      "display_name": "Python 3"
    },
    "language_info": {
      "name": "python"
    }
  },
  "cells": [
    {
      "cell_type": "code",
      "execution_count": 1,
      "metadata": {
        "colab": {
          "base_uri": "https://localhost:8080/"
        },
        "id": "E_-TYSDAIVtK",
        "outputId": "7d0ee9a6-5f39-43d5-d072-777f3b9af12c"
      },
      "outputs": [
        {
          "output_type": "stream",
          "name": "stdout",
          "text": [
            "Requirement already satisfied: pyspark in /usr/local/lib/python3.11/dist-packages (3.5.1)\n",
            "Requirement already satisfied: py4j==0.10.9.7 in /usr/local/lib/python3.11/dist-packages (from pyspark) (0.10.9.7)\n"
          ]
        }
      ],
      "source": [
        "# Instala o PySpark (caso rode em ambiente que precise, ex: Google Colab)\n",
        "!pip install pyspark"
      ]
    },
    {
      "cell_type": "code",
      "source": [
        "# Importa as bibliotecas necessárias do PySpark\n",
        "import pyspark\n",
        "from pyspark.sql import SparkSession\n",
        "from pyspark.sql.functions import month\n",
        "from pyspark.ml.feature import StringIndexer, VectorAssembler, MinMaxScaler, PCA\n",
        "from pyspark.ml.regression import LinearRegression\n",
        "from pyspark.ml.evaluation import RegressionEvaluator"
      ],
      "metadata": {
        "id": "ARxgkSs3IczE"
      },
      "execution_count": 33,
      "outputs": []
    },
    {
      "cell_type": "code",
      "source": [
        "# Cria uma SparkSession, que é o ponto de entrada para usar Spark\n",
        "spark = SparkSession.builder.getOrCreate()"
      ],
      "metadata": {
        "id": "xYxnxeeWIwnO"
      },
      "execution_count": 4,
      "outputs": []
    },
    {
      "cell_type": "code",
      "source": [
        "# Lê um arquivo parquet contendo dados tratados de vídeos no Google Drive\n",
        "df_video = spark.read.option('header', True).parquet('/content/drive/MyDrive/aulas/videos-tratados-parquet')\n",
        "# Mostra as primeiras linhas do dataframe para visualização inicial\n",
        "df_video.show(10)"
      ],
      "metadata": {
        "id": "CfTsDTIAIpxY"
      },
      "execution_count": 6,
      "outputs": []
    },
    {
      "cell_type": "code",
      "source": [
        "# Cria uma nova coluna 'Month' extraída da coluna 'Published At' (mês da data de publicação)\n",
        "df_video = df_video.withColumn('Month', month('Published At'))\n",
        "df_video.show(10)"
      ],
      "metadata": {
        "colab": {
          "base_uri": "https://localhost:8080/"
        },
        "id": "G40CdG5TJsG2",
        "outputId": "41955167-b728-4c58-8cc4-752e0be7f899"
      },
      "execution_count": 16,
      "outputs": [
        {
          "output_type": "stream",
          "name": "stdout",
          "text": [
            "+--------------------+-----------+------------+----------------+------+--------+---------+-----------+----+-----+-------------+\n",
            "|               Title|   Video ID|Published At|         Keyword| Likes|Comments|    Views|Interaction|Year|Month|Keyword Index|\n",
            "+--------------------+-----------+------------+----------------+------+--------+---------+-----------+----+-----+-------------+\n",
            "|ASMR MUKBANG DOUB...|--ZI0dSbbNU|  2020-04-18|         mukbang|378858|   18860| 17975269|   18372987|2020|    4|         30.0|\n",
            "|Deadly car bomb d...|--hxd1CrOqg|  2022-08-22|            news|  6379|    4853|   808787|     820019|2022|    8|         37.0|\n",
            "|How Biden&#39;s s...|--ixiTypG8g|  2022-08-24|            news|  1029|    2347|    97434|     100810|2022|    8|         37.0|\n",
            "|Celebrating My 40...|-64r1hcxtV4|  2022-05-30|         mukbang| 45628|   17264|  5283664|    5346556|2022|    5|         30.0|\n",
            "|Physics Review - ...|-6IgkG5yZfo|  2017-01-02|         physics| 10959|     525|   844015|     855499|2017|    1|          7.0|\n",
            "|Eating ONLY KOREA...|-7hzaGya86g|  2022-07-17|            food| 18957|     566|   702174|     721697|2022|    7|         18.0|\n",
            "|19 Year-Old Start...|-8TnsjDRXUE|  2022-08-22|        business|  3232|     580|   188875|     192687|2022|    8|         16.0|\n",
            "|SAT® Tips and Tri...|-9hjdvULDyc|  2022-03-11|             sat|   503|      52|    13591|      14146|2022|    3|         14.0|\n",
            "|I found SECRET RO...|-Cr69sGnrk8|  2022-08-23|       minecraft|  1333|      22|   119487|     120842|2022|    8|         21.0|\n",
            "|DON&#39;T USE DOM...|-D4S6TpnO44|  2022-08-01|        business|   114|       2|     2270|       2386|2022|    8|         16.0|\n",
            "|NO MORE A FAMILY ...|-EDUPj7Vg7o|  2022-08-23|        reaction|196898|   15525|  1223879|    1436302|2022|    8|         13.0|\n",
            "|Data Science Full...|-ETQ97mXXF0|  2019-08-18|    data science|118846|    3501|  3069097|    3191444|2019|    8|          2.0|\n",
            "|ZOMBIE GIRL ESCAP...|-EjsCBHEbbk|  2020-11-28|          google|349923|    4082|122994457|  123348462|2020|   11|         29.0|\n",
            "|Making Your First...|-FIu9SGvQZc|  2021-11-10|game development| 18486|     733|   353784|     373003|2021|   11|          3.0|\n",
            "|English Job Inter...|-JNjsOX0N0c|  2021-08-03|       interview| 19630|     515|   621093|     641238|2021|    8|          4.0|\n",
            "|The History Of Ea...|-Jsj7K6E0Fg|  2022-04-13|         history| 11595|    2294|  1487029|    1500918|2022|    4|         12.0|\n",
            "|How to Assess ANY...|-Mv5KqtuVrc|  2022-08-24|           chess|    58|      21|      601|        680|2022|    8|         26.0|\n",
            "|15 Kilo Zayıf Gös...|-NcdEl405KY|  2022-08-23|         mukbang|    -1|     335|    27451|      27785|2022|    8|         30.0|\n",
            "|ALL MY EXOTIC ANI...|-QN9kxSUWZo|  2022-07-30|         animals|  6473|     455|   267705|     274633|2022|    7|         38.0|\n",
            "|All Sports Golf B...|-RmUADCWI4A|  2017-12-04|          sports|867074|   43024|106014469|  106924567|2017|   12|         15.0|\n",
            "+--------------------+-----------+------------+----------------+------+--------+---------+-----------+----+-----+-------------+\n",
            "only showing top 20 rows\n",
            "\n"
          ]
        }
      ]
    },
    {
      "cell_type": "code",
      "source": [
        "# Converte a coluna categórica 'Keyword' para índices numéricos, facilitando o uso em ML\n",
        "indexer = StringIndexer(inputCol='Keyword', outputCol='Keyword Index')\n",
        "df_video = indexer.fit(df_video).transform(df_video)\n",
        "df_video.show(10)"
      ],
      "metadata": {
        "colab": {
          "base_uri": "https://localhost:8080/"
        },
        "id": "CcEaZjULKZ3t",
        "outputId": "6825ff95-5fd9-4f80-b8f4-021743267b30"
      },
      "execution_count": 14,
      "outputs": [
        {
          "output_type": "stream",
          "name": "stdout",
          "text": [
            "+--------------------+-----------+------------+---------+------+--------+--------+-----------+----+-----+-------------+\n",
            "|               Title|   Video ID|Published At|  Keyword| Likes|Comments|   Views|Interaction|Year|month|Keyword Index|\n",
            "+--------------------+-----------+------------+---------+------+--------+--------+-----------+----+-----+-------------+\n",
            "|ASMR MUKBANG DOUB...|--ZI0dSbbNU|  2020-04-18|  mukbang|378858|   18860|17975269|   18372987|2020|    4|         30.0|\n",
            "|Deadly car bomb d...|--hxd1CrOqg|  2022-08-22|     news|  6379|    4853|  808787|     820019|2022|    8|         37.0|\n",
            "|How Biden&#39;s s...|--ixiTypG8g|  2022-08-24|     news|  1029|    2347|   97434|     100810|2022|    8|         37.0|\n",
            "|Celebrating My 40...|-64r1hcxtV4|  2022-05-30|  mukbang| 45628|   17264| 5283664|    5346556|2022|    5|         30.0|\n",
            "|Physics Review - ...|-6IgkG5yZfo|  2017-01-02|  physics| 10959|     525|  844015|     855499|2017|    1|          7.0|\n",
            "|Eating ONLY KOREA...|-7hzaGya86g|  2022-07-17|     food| 18957|     566|  702174|     721697|2022|    7|         18.0|\n",
            "|19 Year-Old Start...|-8TnsjDRXUE|  2022-08-22| business|  3232|     580|  188875|     192687|2022|    8|         16.0|\n",
            "|SAT® Tips and Tri...|-9hjdvULDyc|  2022-03-11|      sat|   503|      52|   13591|      14146|2022|    3|         14.0|\n",
            "|I found SECRET RO...|-Cr69sGnrk8|  2022-08-23|minecraft|  1333|      22|  119487|     120842|2022|    8|         21.0|\n",
            "|DON&#39;T USE DOM...|-D4S6TpnO44|  2022-08-01| business|   114|       2|    2270|       2386|2022|    8|         16.0|\n",
            "+--------------------+-----------+------------+---------+------+--------+--------+-----------+----+-----+-------------+\n",
            "only showing top 10 rows\n",
            "\n"
          ]
        }
      ]
    },
    {
      "cell_type": "code",
      "source": [
        "# Define as colunas que serão usadas para criar o vetor de características (features)\n",
        "feature_cols = ['Likes', 'Views', 'Year', 'Month', 'Keyword Index']\n",
        "\n",
        "# Remove linhas com valores nulos nas colunas usadas para features (obrigatório para alguns transformadores)\n",
        "df_video = df_video.na.drop(subset=feature_cols)\n",
        "\n",
        "# Remove a coluna 'Features' existente caso já exista para evitar conflito\n",
        "if 'Features' in df_video.columns:\n",
        "    df_video = df_video.drop('Features')\n",
        "\n",
        "# Cria um vetor de características chamado 'Features' a partir das colunas selecionadas\n",
        "assembler = VectorAssembler(inputCols=feature_cols, outputCol='Features')\n",
        "df_video = assembler.transform(df_video)"
      ],
      "metadata": {
        "id": "zldhcsO1KvOP"
      },
      "execution_count": 30,
      "outputs": []
    },
    {
      "cell_type": "code",
      "source": [
        "# Remoção de linhas com nulos na coluna 'Features' (corrigindo seu erro: estava usando variável 'features' minúscula)\n",
        "df_video = df_video.na.drop(subset=['Features'])\n",
        "\n",
        "# Remove a coluna 'Features Normal' caso exista (para evitar conflito)\n",
        "if 'Features Normal' in df_video.columns:\n",
        "    df_video = df_video.drop('Features Normal')\n",
        "\n",
        "# Aplica a normalização MinMax para escalar os dados entre 0 e 1, produzindo 'Features Normal'\n",
        "scaler = MinMaxScaler(inputCol='Features', outputCol='Features Normal')\n",
        "scaler_model = scaler.fit(df_video)\n",
        "df_video = scaler_model.transform(df_video)\n",
        "df_video.show(10)"
      ],
      "metadata": {
        "colab": {
          "base_uri": "https://localhost:8080/"
        },
        "id": "srHzSI5_LX8y",
        "outputId": "3675d9c2-f9fd-4c2f-bc22-85d4617ff41e"
      },
      "execution_count": 31,
      "outputs": [
        {
          "output_type": "stream",
          "name": "stdout",
          "text": [
            "+--------------------+-----------+------------+---------+------+--------+--------+-----------+----+-----+-------------+--------------------+--------------------+--------------------+\n",
            "|               Title|   Video ID|Published At|  Keyword| Likes|Comments|   Views|Interaction|Year|Month|Keyword Index|        Features PCA|            Features|     Features Normal|\n",
            "+--------------------+-----------+------------+---------+------+--------+--------+-----------+----+-----+-------------+--------------------+--------------------+--------------------+\n",
            "|ASMR MUKBANG DOUB...|--ZI0dSbbNU|  2020-04-18|  mukbang|378858|   18860|17975269|   18372987|2020|    4|         30.0|[-1.7977902050831...|[378858.0,1.79752...|[0.02303716158264...|\n",
            "|Deadly car bomb d...|--hxd1CrOqg|  2022-08-22|     news|  6379|    4853|  808787|     820019|2022|    8|         37.0|[-808813.5260760847]|[6379.0,808787.0,...|[3.87946679100418...|\n",
            "|How Biden&#39;s s...|--ixiTypG8g|  2022-08-24|     news|  1029|    2347|   97434|     100810|2022|    8|         37.0|[-97440.10224928132]|[1029.0,97434.0,2...|[6.26308901995973...|\n",
            "|Celebrating My 40...|-64r1hcxtV4|  2022-05-30|  mukbang| 45628|   17264| 5283664|    5346556|2022|    5|         30.0|[-5283866.7762142...|[45628.0,5283664....|[0.00277454843584...|\n",
            "|Physics Review - ...|-6IgkG5yZfo|  2017-01-02|  physics| 10959|     525|  844015|     855499|2017|    1|          7.0|[-844078.7237127916]|[10959.0,844015.0...|[6.66441317075327...|\n",
            "|Eating ONLY KOREA...|-7hzaGya86g|  2022-07-17|     food| 18957|     566|  702174|     721697|2022|    7|         18.0| [-702313.184912746]|[18957.0,702174.0...|[0.00115277321980...|\n",
            "|19 Year-Old Start...|-8TnsjDRXUE|  2022-08-22| business|  3232|     580|  188875|     192687|2022|    8|         16.0|[-188896.24800633...|[3232.0,188875.0,...|[1.96588027199318...|\n",
            "|SAT® Tips and Tri...|-9hjdvULDyc|  2022-03-11|      sat|   503|      52|   13591|      14146|2022|    3|         14.0|[-13594.899630536...|[503.0,13591.0,20...|[3.06465715151427...|\n",
            "|I found SECRET RO...|-Cr69sGnrk8|  2022-08-23|minecraft|  1333|      22|  119487|     120842|2022|    8|         21.0|[-119494.09060715...|[1333.0,119487.0,...|[8.11161238119056...|\n",
            "|DON&#39;T USE DOM...|-D4S6TpnO44|  2022-08-01| business|   114|       2|    2270|       2386|2022|    8|         16.0|[-2270.911424366425]|[114.0,2270.0,202...|[6.99276929412980...|\n",
            "+--------------------+-----------+------------+---------+------+--------+--------+-----------+----+-----+-------------+--------------------+--------------------+--------------------+\n",
            "only showing top 10 rows\n",
            "\n"
          ]
        }
      ]
    },
    {
      "cell_type": "code",
      "source": [
        "# Aplica PCA para reduzir dimensionalidade (k=1), gerando uma nova coluna 'Features PCA'\n",
        "pca = PCA(k=1, inputCol='Features', outputCol='Features PCA')\n",
        "pca_model = pca.fit(df_video)\n",
        "df_video = pca_model.transform(df_video)\n",
        "df_video.show(10)"
      ],
      "metadata": {
        "colab": {
          "base_uri": "https://localhost:8080/"
        },
        "id": "s39xQ8NkMuO7",
        "outputId": "ad8819e5-2906-4ee5-f97f-8dfdcb98867b"
      },
      "execution_count": 27,
      "outputs": [
        {
          "output_type": "stream",
          "name": "stdout",
          "text": [
            "+--------------------+-----------+------------+---------+------+--------+--------+-----------+----+-----+-------------+--------------------+--------------------+--------------------+\n",
            "|               Title|   Video ID|Published At|  Keyword| Likes|Comments|   Views|Interaction|Year|Month|Keyword Index|            Features|     Features Normal|        Features PCA|\n",
            "+--------------------+-----------+------------+---------+------+--------+--------+-----------+----+-----+-------------+--------------------+--------------------+--------------------+\n",
            "|ASMR MUKBANG DOUB...|--ZI0dSbbNU|  2020-04-18|  mukbang|378858|   18860|17975269|   18372987|2020|    4|         30.0|[378858.0,18860.0...|[0.02303716158264...|[-1.7977902050831...|\n",
            "|Deadly car bomb d...|--hxd1CrOqg|  2022-08-22|     news|  6379|    4853|  808787|     820019|2022|    8|         37.0|[6379.0,4853.0,80...|[3.87946679100418...|[-808813.5260760847]|\n",
            "|How Biden&#39;s s...|--ixiTypG8g|  2022-08-24|     news|  1029|    2347|   97434|     100810|2022|    8|         37.0|[1029.0,2347.0,97...|[6.26308901995973...|[-97440.10224928132]|\n",
            "|Celebrating My 40...|-64r1hcxtV4|  2022-05-30|  mukbang| 45628|   17264| 5283664|    5346556|2022|    5|         30.0|[45628.0,17264.0,...|[0.00277454843584...|[-5283866.7762142...|\n",
            "|Physics Review - ...|-6IgkG5yZfo|  2017-01-02|  physics| 10959|     525|  844015|     855499|2017|    1|          7.0|[10959.0,525.0,84...|[6.66441317075327...|[-844078.7237127916]|\n",
            "|Eating ONLY KOREA...|-7hzaGya86g|  2022-07-17|     food| 18957|     566|  702174|     721697|2022|    7|         18.0|[18957.0,566.0,70...|[0.00115277321980...| [-702313.184912746]|\n",
            "|19 Year-Old Start...|-8TnsjDRXUE|  2022-08-22| business|  3232|     580|  188875|     192687|2022|    8|         16.0|[3232.0,580.0,188...|[1.96588027199318...|[-188896.24800633...|\n",
            "|SAT® Tips and Tri...|-9hjdvULDyc|  2022-03-11|      sat|   503|      52|   13591|      14146|2022|    3|         14.0|[503.0,52.0,13591...|[3.06465715151427...|[-13594.899630536...|\n",
            "|I found SECRET RO...|-Cr69sGnrk8|  2022-08-23|minecraft|  1333|      22|  119487|     120842|2022|    8|         21.0|[1333.0,22.0,1194...|[8.11161238119056...|[-119494.09060715...|\n",
            "|DON&#39;T USE DOM...|-D4S6TpnO44|  2022-08-01| business|   114|       2|    2270|       2386|2022|    8|         16.0|[114.0,2.0,2270.0...|[6.99276929412980...|[-2270.911424366425]|\n",
            "+--------------------+-----------+------------+---------+------+--------+--------+-----------+----+-----+-------------+--------------------+--------------------+--------------------+\n",
            "only showing top 10 rows\n",
            "\n"
          ]
        }
      ]
    },
    {
      "cell_type": "code",
      "source": [
        "# Divide o dataset em 80% para treino e 20% para teste, com seed fixo para reprodutibilidade\n",
        "df_train, df_test = df_video.randomSplit([0.8, 0.2], seed=42)\n",
        "print(f'Train: {df_train.count()}')\n",
        "print(f'Test: {df_test.count()}')"
      ],
      "metadata": {
        "colab": {
          "base_uri": "https://localhost:8080/"
        },
        "id": "Y2R4QMxDNen2",
        "outputId": "ceec3a26-4c86-421b-cad3-e89f1a78d9bb"
      },
      "execution_count": 32,
      "outputs": [
        {
          "output_type": "stream",
          "name": "stdout",
          "text": [
            "Train: 1541\n",
            "Test: 328\n"
          ]
        }
      ]
    },
    {
      "cell_type": "code",
      "source": [
        "# Cria um modelo de regressão linear para prever o valor da coluna 'Comments'\n",
        "# usando como features a coluna normalizada 'Features Normal'\n",
        "lr = LinearRegression(featuresCol='Features Normal', labelCol='Comments')\n",
        "lr_model = lr.fit(df_train)\n",
        "\n",
        "# Aplica o modelo nos dados de teste para gerar previsões\n",
        "predictions = lr_model.transform(df_test)\n",
        "\n",
        "# Exibe as primeiras previsões junto com os valores reais\n",
        "predictions.select('Comments', 'prediction').show(10)\n",
        "\n",
        "# Avalia o modelo calculando RMSE (erro quadrático médio) e R2 (coeficiente de determinação)\n",
        "evaluator_rmse = RegressionEvaluator(labelCol='Comments', predictionCol='prediction', metricName='rmse')\n",
        "evaluator_r2 = RegressionEvaluator(labelCol='Comments', predictionCol='prediction', metricName='r2')\n",
        "rmse = evaluator_rmse.evaluate(predictions)\n",
        "r2 = evaluator_r2.evaluate(predictions)\n",
        "print(f'RMSE: {rmse}')\n",
        "print(f'R2: {r2}')"
      ],
      "metadata": {
        "colab": {
          "base_uri": "https://localhost:8080/"
        },
        "id": "8oO5NNePQMU2",
        "outputId": "bfa86289-5ccc-4d1a-de9c-74f3a1623d52"
      },
      "execution_count": 35,
      "outputs": [
        {
          "output_type": "stream",
          "name": "stdout",
          "text": [
            "+--------+------------------+\n",
            "|Comments|        prediction|\n",
            "+--------+------------------+\n",
            "|    4043| 6226.043963974927|\n",
            "|     595|-709.5924419754601|\n",
            "|    7921|1894.1868192825377|\n",
            "|    1035|-360.3658439220635|\n",
            "|     292|1148.0004563140067|\n",
            "|    2293|1064.2382039989695|\n",
            "|      37|337.60873773678986|\n",
            "|     199| 810.2822547693347|\n",
            "|  131040|132684.92433314162|\n",
            "|    7270|17455.702984320327|\n",
            "+--------+------------------+\n",
            "only showing top 10 rows\n",
            "\n",
            "RMSE: 8949.141405909737\n",
            "R2: 0.8505524810197589\n"
          ]
        }
      ]
    },
    {
      "cell_type": "code",
      "source": [
        "# Salva o dataframe final, já processado e com colunas de features, em formato parquet\n",
        "df_video.write.mode('overwrite').parquet('/content/drive/MyDrive/aulas/videos-preparados-parquet')"
      ],
      "metadata": {
        "id": "V4njDpoaRTUY"
      },
      "execution_count": 36,
      "outputs": []
    },
    {
      "cell_type": "code",
      "source": [
        "# Encerra a sessão Spark para liberar recursos\n",
        "spark.stop()"
      ],
      "metadata": {
        "id": "pT-OiU-hRsE5"
      },
      "execution_count": 37,
      "outputs": []
    }
  ]
}