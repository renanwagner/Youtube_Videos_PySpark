{
  "nbformat": 4,
  "nbformat_minor": 0,
  "metadata": {
    "colab": {
      "provenance": []
    },
    "kernelspec": {
      "name": "python3",
      "display_name": "Python 3"
    },
    "language_info": {
      "name": "python"
    }
  },
  "cells": [
    {
      "cell_type": "code",
      "execution_count": 2,
      "metadata": {
        "colab": {
          "base_uri": "https://localhost:8080/"
        },
        "id": "WFnzg0xL1JE5",
        "outputId": "a6fd755d-ecec-473b-b243-b740b2987641"
      },
      "outputs": [
        {
          "output_type": "stream",
          "name": "stdout",
          "text": [
            "Requirement already satisfied: pyspark in /usr/local/lib/python3.11/dist-packages (3.5.1)\n",
            "Requirement already satisfied: py4j==0.10.9.7 in /usr/local/lib/python3.11/dist-packages (from pyspark) (0.10.9.7)\n"
          ]
        }
      ],
      "source": [
        "# Instala o PySpark (necessário apenas em ambientes como Google Colab)\n",
        "!pip install pyspark"
      ]
    },
    {
      "cell_type": "code",
      "source": [
        "# Importações principais do PySpark\n",
        "import pyspark\n",
        "from pyspark.sql import SparkSession\n",
        "from pyspark.sql.functions import col, sum as _sum, when\n",
        "from pyspark.sql.functions import to_date, year\n",
        "from pyspark.sql.types import IntegerType"
      ],
      "metadata": {
        "id": "e1DZ2LnI1PwE"
      },
      "execution_count": 3,
      "outputs": []
    },
    {
      "cell_type": "code",
      "source": [
        "# Inicia a sessão do Spark\n",
        "spark = SparkSession.builder.getOrCreate()"
      ],
      "metadata": {
        "id": "rBaSPlKq1WrR"
      },
      "execution_count": 4,
      "outputs": []
    },
    {
      "cell_type": "code",
      "source": [
        "# Leitura do arquivo CSV com estatísticas de vídeos\n",
        "df_video = spark.read.csv(\n",
        "    '/content/drive/MyDrive/data/Material/videos-stats.csv',\n",
        "    header=True,\n",
        "    inferSchema=True\n",
        ")"
      ],
      "metadata": {
        "id": "ynjtJTSo2GNS"
      },
      "execution_count": 5,
      "outputs": []
    },
    {
      "cell_type": "code",
      "source": [
        "# Preenche valores nulos nas colunas Likes, Comments e Views com 0\n",
        "df_video = df_video.fillna({'Likes': 0, 'Comments': 0, 'Views': 0})"
      ],
      "metadata": {
        "id": "U0mjZcMf2Rum"
      },
      "execution_count": 6,
      "outputs": []
    },
    {
      "cell_type": "code",
      "source": [
        "# Leitura do arquivo CSV com comentários\n",
        "df_comments = spark.read.csv(\n",
        "    '/content/drive/MyDrive/data/Material/comments.csv',\n",
        "    header=True,\n",
        "    inferSchema=True\n",
        ")\n"
      ],
      "metadata": {
        "id": "tBhdHw7U3nl2"
      },
      "execution_count": 7,
      "outputs": []
    },
    {
      "cell_type": "code",
      "source": [
        "# Exibe a quantidade de registros antes da limpeza\n",
        "print(f'Quantidade de registros de vídeos: {df_video.count()}')\n",
        "print(f'Quantidade de registros de comentários: {df_comments.count()}')"
      ],
      "metadata": {
        "colab": {
          "base_uri": "https://localhost:8080/"
        },
        "id": "jKl_QDU84e6O",
        "outputId": "f781a066-5501-4a90-bf59-649cdaee96ff"
      },
      "execution_count": 9,
      "outputs": [
        {
          "output_type": "stream",
          "name": "stdout",
          "text": [
            "Quantidade de registros de vídeos: 1881\n",
            "Quantidade de registros de comentários: 30036\n"
          ]
        }
      ]
    },
    {
      "cell_type": "code",
      "source": [
        "# Remove registros com 'Video ID' nulo\n",
        "df_video = df_video.filter(df_video['Video ID'].isNotNull())\n",
        "df_comments = df_comments.filter(df_comments['Video ID'].isNotNull())\n",
        "\n",
        "# Exibe a quantidade de registros após remoção dos nulos\n",
        "print(f'Quantidade de registros de vídeos: {df_video.count()}')\n",
        "print(f'Quantidade de registros de comentários: {df_comments.count()}')"
      ],
      "metadata": {
        "colab": {
          "base_uri": "https://localhost:8080/"
        },
        "id": "-Go6Hp454qb-",
        "outputId": "10dc16ac-dc0b-46db-aded-eeceac18f18d"
      },
      "execution_count": 10,
      "outputs": [
        {
          "output_type": "stream",
          "name": "stdout",
          "text": [
            "Quantidade de registros de vídeos: 1881\n",
            "Quantidade de registros de comentários: 22555\n"
          ]
        }
      ]
    },
    {
      "cell_type": "code",
      "source": [
        "# Remove vídeos com 'Video ID' duplicados\n",
        "df_video = df_video.dropDuplicates(['Video ID'])"
      ],
      "metadata": {
        "id": "UTZL_XHw8rl2"
      },
      "execution_count": 11,
      "outputs": []
    },
    {
      "cell_type": "code",
      "source": [
        "# Converte as colunas Likes, Comments e Views para o tipo inteiro\n",
        "df_video = df_video.withColumn(\"Likes\", df_video[\"Likes\"].cast(IntegerType())) \\\n",
        "                   .withColumn(\"Comments\", df_video[\"Comments\"].cast(IntegerType())) \\\n",
        "                   .withColumn(\"Views\", df_video[\"Views\"].cast(IntegerType()))"
      ],
      "metadata": {
        "id": "-Hk43iUWBCrk"
      },
      "execution_count": 12,
      "outputs": []
    },
    {
      "cell_type": "code",
      "source": [
        "# Cria a coluna 'Interaction' com a soma de Likes, Comments e Views\n",
        "df_video = df_video.withColumn(\n",
        "    'Interaction',\n",
        "    col('Likes') + col('Comments') + col('Views')\n",
        ")"
      ],
      "metadata": {
        "id": "kf5qibvdCuY8"
      },
      "execution_count": 13,
      "outputs": []
    },
    {
      "cell_type": "code",
      "source": [
        "# Converte a coluna 'Published At' para o tipo data (esperando formato 'dd-MM-yyyy')\n",
        "df_video = df_video.withColumn('Published At', to_date(col('Published At'), 'dd-MM-yyyy'))"
      ],
      "metadata": {
        "id": "udP5MHzq65BY"
      },
      "execution_count": 14,
      "outputs": []
    },
    {
      "cell_type": "code",
      "source": [
        "# Cria a coluna 'Year' extraída da data de publicação\n",
        "df_video = df_video.withColumn('Year', year(col('Published At')))"
      ],
      "metadata": {
        "id": "WFSa-z007sAK"
      },
      "execution_count": 15,
      "outputs": []
    },
    {
      "cell_type": "code",
      "source": [
        "# Junta os dados de vídeos com os comentários pelo campo 'Video ID'\n",
        "df_join_video_comments = df_video.join(df_comments, on='Video ID', how='inner')\n",
        "df_join_video_comments.show()"
      ],
      "metadata": {
        "colab": {
          "base_uri": "https://localhost:8080/"
        },
        "id": "BmaPqbj48Ueq",
        "outputId": "b51c385c-7b53-49ba-a684-f53c0d05fcb8"
      },
      "execution_count": 16,
      "outputs": [
        {
          "output_type": "stream",
          "name": "stdout",
          "text": [
            "+-----------+---+--------------------+------------+-------+-----+--------+-------+-----------+----+---+--------------------+------+---------+\n",
            "|   Video ID|_c0|               Title|Published At|Keyword|Likes|Comments|  Views|Interaction|Year|_c0|             Comment| Likes|Sentiment|\n",
            "+-----------+---+--------------------+------------+-------+-----+--------+-------+-----------+----+---+--------------------+------+---------+\n",
            "|wAZZ-UWGVHI|  0|Apple Pay Is Kill...|  2022-08-23|   tech| 3407|     672| 135612|     139691|2022|  0|Let's not forget ...|  95.0|      1.0|\n",
            "|wAZZ-UWGVHI|  0|Apple Pay Is Kill...|  2022-08-23|   tech| 3407|     672| 135612|     139691|2022|  1|Here in NZ 50% of...|  19.0|      0.0|\n",
            "|wAZZ-UWGVHI|  0|Apple Pay Is Kill...|  2022-08-23|   tech| 3407|     672| 135612|     139691|2022|  2|I will forever ac...| 161.0|      2.0|\n",
            "|wAZZ-UWGVHI|  0|Apple Pay Is Kill...|  2022-08-23|   tech| 3407|     672| 135612|     139691|2022|  3|Whenever I go to ...|   8.0|      0.0|\n",
            "|wAZZ-UWGVHI|  0|Apple Pay Is Kill...|  2022-08-23|   tech| 3407|     672| 135612|     139691|2022|  4|Apple Pay is so c...|  34.0|      2.0|\n",
            "|wAZZ-UWGVHI|  0|Apple Pay Is Kill...|  2022-08-23|   tech| 3407|     672| 135612|     139691|2022|  5|We’ve been houndi...|   8.0|      1.0|\n",
            "|wAZZ-UWGVHI|  0|Apple Pay Is Kill...|  2022-08-23|   tech| 3407|     672| 135612|     139691|2022|  6|We only got Apple...|  29.0|      2.0|\n",
            "|wAZZ-UWGVHI|  0|Apple Pay Is Kill...|  2022-08-23|   tech| 3407|     672| 135612|     139691|2022|  7|For now, I need b...|   7.0|      1.0|\n",
            "|wAZZ-UWGVHI|  0|Apple Pay Is Kill...|  2022-08-23|   tech| 3407|     672| 135612|     139691|2022|  8|In the United Sta...|   2.0|      2.0|\n",
            "|wAZZ-UWGVHI|  0|Apple Pay Is Kill...|  2022-08-23|   tech| 3407|     672| 135612|     139691|2022|  9|In Cambodia, we h...|  28.0|      1.0|\n",
            "|b3x28s61q3c|  1|The most EXPENSIV...|  2022-08-24|   tech|76779|    4306|1758063|    1839148|2022| 10|Wow, you really w...|1344.0|      2.0|\n",
            "|b3x28s61q3c|  1|The most EXPENSIV...|  2022-08-24|   tech|76779|    4306|1758063|    1839148|2022| 11|The lab is the mo...| 198.0|      2.0|\n",
            "|b3x28s61q3c|  1|The most EXPENSIV...|  2022-08-24|   tech|76779|    4306|1758063|    1839148|2022| 12|Linus, I'm an eng...| 365.0|      2.0|\n",
            "|b3x28s61q3c|  1|The most EXPENSIV...|  2022-08-24|   tech|76779|    4306|1758063|    1839148|2022| 13|There used to be ...| 211.0|      2.0|\n",
            "|b3x28s61q3c|  1|The most EXPENSIV...|  2022-08-24|   tech|76779|    4306|1758063|    1839148|2022| 14|Holy crap. I was ...| 821.0|      0.0|\n",
            "|b3x28s61q3c|  1|The most EXPENSIV...|  2022-08-24|   tech|76779|    4306|1758063|    1839148|2022| 15|I love the direct...| 150.0|      2.0|\n",
            "|b3x28s61q3c|  1|The most EXPENSIV...|  2022-08-24|   tech|76779|    4306|1758063|    1839148|2022| 16|I am more excited...|  49.0|      2.0|\n",
            "|b3x28s61q3c|  1|The most EXPENSIV...|  2022-08-24|   tech|76779|    4306|1758063|    1839148|2022| 17|I adore the worki...|  19.0|      2.0|\n",
            "|b3x28s61q3c|  1|The most EXPENSIV...|  2022-08-24|   tech|76779|    4306|1758063|    1839148|2022| 18|LMGs growth is ho...|  NULL|     NULL|\n",
            "|b3x28s61q3c|  1|The most EXPENSIV...|  2022-08-24|   tech|76779|    4306|1758063|    1839148|2022| 19|I love all the pe...|2808.0|      2.0|\n",
            "+-----------+---+--------------------+------------+-------+-----+--------+-------+-----------+----+---+--------------------+------+---------+\n",
            "only showing top 20 rows\n",
            "\n"
          ]
        }
      ]
    },
    {
      "cell_type": "code",
      "source": [
        "# Lê outro conjunto de dados com vídeos dos EUA\n",
        "df_us_video = spark.read.csv(\n",
        "    '/content/drive/MyDrive/data/Material/USvideos.csv',\n",
        "    header=True,\n",
        "    inferSchema=True\n",
        ")"
      ],
      "metadata": {
        "id": "0vYl_bOY8shA"
      },
      "execution_count": 17,
      "outputs": []
    },
    {
      "cell_type": "code",
      "source": [
        "# Junta os vídeos com os vídeos dos EUA com base no título (Title)\n",
        "df_join_video_us = df_video.join(df_us_video, on='Title', how='inner')\n",
        "df_join_video_us.show()\n"
      ],
      "metadata": {
        "colab": {
          "base_uri": "https://localhost:8080/"
        },
        "id": "8fQ-Rjpe86Nt",
        "outputId": "e5118773-8284-4e67-ddfe-6d1b8df72d67"
      },
      "execution_count": 18,
      "outputs": [
        {
          "output_type": "stream",
          "name": "stdout",
          "text": [
            "+--------------------+----+-----------+------------+----------------+------+--------+---------+-----------+----+-----------+-------------+-----------------+-----------+--------------------+--------------------+--------+------+--------+-------------+--------------------+-----------------+----------------+----------------------+--------------------+\n",
            "|               Title| _c0|   Video ID|Published At|         Keyword| Likes|Comments|    Views|Interaction|Year|   video_id|trending_date|    channel_title|category_id|        publish_time|                tags|   views| likes|dislikes|comment_count|      thumbnail_link|comments_disabled|ratings_disabled|video_error_or_removed|         description|\n",
            "+--------------------+----+-----------+------------+----------------+------+--------+---------+-----------+----+-----------+-------------+-----------------+-----------+--------------------+--------------------+--------+------+--------+-------------+--------------------+-----------------+----------------+----------------------+--------------------+\n",
            "|All Sports Golf B...| 157|-RmUADCWI4A|  2017-12-04|          sports|867074|   43024|106014469|  106924567|2017|-RmUADCWI4A|     17.06.12|     Dude Perfect|         17|2017-12-04T22:57:...|\"dude perfect\"|\"d...| 8643326|299731|    5168|        23303|https://i.ytimg.c...|            False|           False|                 False|Golf + every othe...|\n",
            "|All Sports Golf B...| 157|-RmUADCWI4A|  2017-12-04|          sports|867074|   43024|106014469|  106924567|2017|-RmUADCWI4A|     17.07.12|     Dude Perfect|         17|2017-12-04T22:57:...|\"dude perfect\"|\"d...| 9828746|316976|    5797|        23221|https://i.ytimg.c...|            False|           False|                 False|Golf + every othe...|\n",
            "|All Sports Golf B...| 157|-RmUADCWI4A|  2017-12-04|          sports|867074|   43024|106014469|  106924567|2017|-RmUADCWI4A|     17.08.12|     Dude Perfect|         17|2017-12-04T22:57:...|\"dude perfect\"|\"d...|10558591|325479|    6104|        24107|https://i.ytimg.c...|            False|           False|                 False|Golf + every othe...|\n",
            "|All Sports Golf B...| 157|-RmUADCWI4A|  2017-12-04|          sports|867074|   43024|106014469|  106924567|2017|-RmUADCWI4A|     17.09.12|     Dude Perfect|         17|2017-12-04T22:57:...|\"dude perfect\"|\"d...|11319116|334495|    6430|        25199|https://i.ytimg.c...|            False|           False|                 False|Golf + every othe...|\n",
            "|All Sports Golf B...| 157|-RmUADCWI4A|  2017-12-04|          sports|867074|   43024|106014469|  106924567|2017|-RmUADCWI4A|     17.10.12|     Dude Perfect|         17|2017-12-04T22:57:...|\"dude perfect\"|\"d...|12305961|342825|    6898|        25905|https://i.ytimg.c...|            False|           False|                 False|Golf + every othe...|\n",
            "|All Sports Golf B...| 157|-RmUADCWI4A|  2017-12-04|          sports|867074|   43024|106014469|  106924567|2017|-RmUADCWI4A|     17.11.12|     Dude Perfect|         17|2017-12-04T22:57:...|\"dude perfect\"|\"d...|13250970|349766|    7437|        26489|https://i.ytimg.c...|            False|           False|                 False|Golf + every othe...|\n",
            "|All Sports Golf B...| 157|-RmUADCWI4A|  2017-12-04|          sports|867074|   43024|106014469|  106924567|2017|-RmUADCWI4A|     17.12.12|     Dude Perfect|         17|2017-12-04T22:57:...|\"dude perfect\"|\"d...|14107720|356297|    7889|        27012|https://i.ytimg.c...|            False|           False|                 False|Golf + every othe...|\n",
            "|      Map of Biology|1408|wENhHnJI1ys|  2017-12-09|         biology| 26530|     818|   602137|     629485|2017|wENhHnJI1ys|     17.13.12|Domain of Science|         28|2017-12-09T15:32:...|\"science\"|\"biolog...|   30134|  2747|      17|          233|https://i.ytimg.c...|            False|           False|                 False|Biology is the su...|\n",
            "|      Map of Biology|1408|wENhHnJI1ys|  2017-12-09|         biology| 26530|     818|   602137|     629485|2017|wENhHnJI1ys|     17.14.12|Domain of Science|         28|2017-12-09T15:32:...|\"science\"|\"biolog...|   31928|  2843|      17|          230|https://i.ytimg.c...|            False|           False|                 False|Biology is the su...|\n",
            "|  How Machines Learn|1860|R9OHn5ZF4Uo|  2017-12-18|machine learning| 10441|     172|   515395|     526008|2017|R9OHn5ZF4Uo|     17.20.12|         CGP Grey|         27|2017-12-18T14:39:...|\"cgpgrey\"|\"educat...| 1227348|155986|     916|         9335|https://i.ytimg.c...|            False|           False|                 False|How do all the al...|\n",
            "|  How Machines Learn|1860|R9OHn5ZF4Uo|  2017-12-18|machine learning| 10441|     172|   515395|     526008|2017|R9OHn5ZF4Uo|     17.21.12|         CGP Grey|         27|2017-12-18T14:39:...|\"cgpgrey\"|\"educat...| 1515895|166667|    1169|         9820|https://i.ytimg.c...|            False|           False|                 False|How do all the al...|\n",
            "|  How Machines Learn|1860|R9OHn5ZF4Uo|  2017-12-18|machine learning| 10441|     172|   515395|     526008|2017|R9OHn5ZF4Uo|     17.22.12|         CGP Grey|         27|2017-12-18T14:39:...|\"cgpgrey\"|\"educat...| 1570967|171457|    1204|        10048|https://i.ytimg.c...|            False|           False|                 False|How do all the al...|\n",
            "|  How Machines Learn|1860|R9OHn5ZF4Uo|  2017-12-18|machine learning| 10441|     172|   515395|     526008|2017|R9OHn5ZF4Uo|     17.23.12|         CGP Grey|         27|2017-12-18T14:39:...|\"cgpgrey\"|\"educat...| 1610875|174918|    1225|        10185|https://i.ytimg.c...|            False|           False|                 False|How do all the al...|\n",
            "|  How Machines Learn|1860|R9OHn5ZF4Uo|  2017-12-18|machine learning| 10441|     172|   515395|     526008|2017|R9OHn5ZF4Uo|     17.24.12|         CGP Grey|         27|2017-12-18T14:39:...|\"cgpgrey\"|\"educat...| 1646752|178160|    1239|        10347|https://i.ytimg.c...|            False|           False|                 False|How do all the al...|\n",
            "|  How Machines Learn|1860|R9OHn5ZF4Uo|  2017-12-18|machine learning| 10441|     172|   515395|     526008|2017|R9OHn5ZF4Uo|     17.25.12|         CGP Grey|         27|2017-12-18T14:39:...|\"cgpgrey\"|\"educat...| 1677991|180305|    1253|        10439|https://i.ytimg.c...|            False|           False|                 False|How do all the al...|\n",
            "|  How Machines Learn|1860|R9OHn5ZF4Uo|  2017-12-18|machine learning| 10441|     172|   515395|     526008|2017|R9OHn5ZF4Uo|     17.26.12|         CGP Grey|         27|2017-12-18T14:39:...|\"cgpgrey\"|\"educat...| 1712379|182958|    1271|        10578|https://i.ytimg.c...|            False|           False|                 False|How do all the al...|\n",
            "|  How Machines Learn|1860|R9OHn5ZF4Uo|  2017-12-18|machine learning| 10441|     172|   515395|     526008|2017|R9OHn5ZF4Uo|     17.27.12|         CGP Grey|         27|2017-12-18T14:39:...|\"cgpgrey\"|\"educat...| 1745698|185788|    1292|        10688|https://i.ytimg.c...|            False|           False|                 False|How do all the al...|\n",
            "|  How Machines Learn|1860|R9OHn5ZF4Uo|  2017-12-18|machine learning| 10441|     172|   515395|     526008|2017|R9OHn5ZF4Uo|     17.28.12|         CGP Grey|         27|2017-12-18T14:39:...|\"cgpgrey\"|\"educat...| 1769751|187892|    1298|        10742|https://i.ytimg.c...|            False|           False|                 False|How do all the al...|\n",
            "+--------------------+----+-----------+------------+----------------+------+--------+---------+-----------+----+-----------+-------------+-----------------+-----------+--------------------+--------------------+--------+------+--------+-------------+--------------------+-----------------+----------------+----------------------+--------------------+\n",
            "\n"
          ]
        }
      ]
    },
    {
      "cell_type": "code",
      "source": [
        "# Verifica a quantidade de valores NÃO nulos em cada coluna do df_video\n",
        "df_video.select([\n",
        "    _sum(when(col(c).isNotNull(), 1).otherwise(0)).alias(c)\n",
        "    for c in df_video.columns\n",
        "]).show()"
      ],
      "metadata": {
        "colab": {
          "base_uri": "https://localhost:8080/"
        },
        "id": "nkRDGMeG9YT6",
        "outputId": "5c8ad1d6-0348-4fc2-c04b-427fe64564a8"
      },
      "execution_count": 19,
      "outputs": [
        {
          "output_type": "stream",
          "name": "stdout",
          "text": [
            "+----+-----+--------+------------+-------+-----+--------+-----+-----------+----+\n",
            "| _c0|Title|Video ID|Published At|Keyword|Likes|Comments|Views|Interaction|Year|\n",
            "+----+-----+--------+------------+-------+-----+--------+-----+-----------+----+\n",
            "|1869| 1869|    1869|        1869|   1869| 1869|    1869| 1869|       1869|1869|\n",
            "+----+-----+--------+------------+-------+-----+--------+-----+-----------+----+\n",
            "\n"
          ]
        }
      ]
    },
    {
      "cell_type": "code",
      "source": [
        "# Remove a coluna '_c0' do df_video\n",
        "df_video = df_video.drop('_c0')\n",
        "\n",
        "# Salva df_video no formato Parquet, com cabeçalho (esquema é incluído automaticamente)\n",
        "df_video.write.mode('overwrite').option('header', True).parquet('/content/videos-tratados-parquet')"
      ],
      "metadata": {
        "id": "jW1Q1xc4-GRA"
      },
      "execution_count": 20,
      "outputs": []
    },
    {
      "cell_type": "code",
      "source": [
        "# Remove a coluna '_c0' do df_join_video_comments (caso exista)\n",
        "df_join_video_comments = df_join_video_comments.drop('_c0')\n",
        "\n",
        "# Salva o dataframe combinado de vídeos e comentários em Parquet\n",
        "df_join_video_comments.write.mode('overwrite').option('header', True).parquet('/content/videos-comments-tratados-parquet')"
      ],
      "metadata": {
        "id": "pZuKLRX7_t1f",
        "colab": {
          "base_uri": "https://localhost:8080/",
          "height": 356
        },
        "outputId": "fc49eb0f-2af7-4a9f-d060-31a0d21ea893"
      },
      "execution_count": 21,
      "outputs": [
        {
          "output_type": "error",
          "ename": "AnalysisException",
          "evalue": "[COLUMN_ALREADY_EXISTS] The column `likes` already exists. Consider to choose another name or rename the existing column.",
          "traceback": [
            "\u001b[0;31m---------------------------------------------------------------------------\u001b[0m",
            "\u001b[0;31mAnalysisException\u001b[0m                         Traceback (most recent call last)",
            "\u001b[0;32m/tmp/ipython-input-21-3807765787.py\u001b[0m in \u001b[0;36m<cell line: 0>\u001b[0;34m()\u001b[0m\n\u001b[1;32m      3\u001b[0m \u001b[0;34m\u001b[0m\u001b[0m\n\u001b[1;32m      4\u001b[0m \u001b[0;31m# Salva o dataframe combinado de vídeos e comentários em Parquet\u001b[0m\u001b[0;34m\u001b[0m\u001b[0;34m\u001b[0m\u001b[0m\n\u001b[0;32m----> 5\u001b[0;31m \u001b[0mdf_join_video_comments\u001b[0m\u001b[0;34m.\u001b[0m\u001b[0mwrite\u001b[0m\u001b[0;34m.\u001b[0m\u001b[0mmode\u001b[0m\u001b[0;34m(\u001b[0m\u001b[0;34m'overwrite'\u001b[0m\u001b[0;34m)\u001b[0m\u001b[0;34m.\u001b[0m\u001b[0moption\u001b[0m\u001b[0;34m(\u001b[0m\u001b[0;34m'header'\u001b[0m\u001b[0;34m,\u001b[0m \u001b[0;32mTrue\u001b[0m\u001b[0;34m)\u001b[0m\u001b[0;34m.\u001b[0m\u001b[0mparquet\u001b[0m\u001b[0;34m(\u001b[0m\u001b[0;34m'/content/videos-comments-tratados-parquet'\u001b[0m\u001b[0;34m)\u001b[0m\u001b[0;34m\u001b[0m\u001b[0;34m\u001b[0m\u001b[0m\n\u001b[0m",
            "\u001b[0;32m/usr/local/lib/python3.11/dist-packages/pyspark/sql/readwriter.py\u001b[0m in \u001b[0;36mparquet\u001b[0;34m(self, path, mode, partitionBy, compression)\u001b[0m\n\u001b[1;32m   1719\u001b[0m             \u001b[0mself\u001b[0m\u001b[0;34m.\u001b[0m\u001b[0mpartitionBy\u001b[0m\u001b[0;34m(\u001b[0m\u001b[0mpartitionBy\u001b[0m\u001b[0;34m)\u001b[0m\u001b[0;34m\u001b[0m\u001b[0;34m\u001b[0m\u001b[0m\n\u001b[1;32m   1720\u001b[0m         \u001b[0mself\u001b[0m\u001b[0;34m.\u001b[0m\u001b[0m_set_opts\u001b[0m\u001b[0;34m(\u001b[0m\u001b[0mcompression\u001b[0m\u001b[0;34m=\u001b[0m\u001b[0mcompression\u001b[0m\u001b[0;34m)\u001b[0m\u001b[0;34m\u001b[0m\u001b[0;34m\u001b[0m\u001b[0m\n\u001b[0;32m-> 1721\u001b[0;31m         \u001b[0mself\u001b[0m\u001b[0;34m.\u001b[0m\u001b[0m_jwrite\u001b[0m\u001b[0;34m.\u001b[0m\u001b[0mparquet\u001b[0m\u001b[0;34m(\u001b[0m\u001b[0mpath\u001b[0m\u001b[0;34m)\u001b[0m\u001b[0;34m\u001b[0m\u001b[0;34m\u001b[0m\u001b[0m\n\u001b[0m\u001b[1;32m   1722\u001b[0m \u001b[0;34m\u001b[0m\u001b[0m\n\u001b[1;32m   1723\u001b[0m     def text(\n",
            "\u001b[0;32m/usr/local/lib/python3.11/dist-packages/py4j/java_gateway.py\u001b[0m in \u001b[0;36m__call__\u001b[0;34m(self, *args)\u001b[0m\n\u001b[1;32m   1320\u001b[0m \u001b[0;34m\u001b[0m\u001b[0m\n\u001b[1;32m   1321\u001b[0m         \u001b[0manswer\u001b[0m \u001b[0;34m=\u001b[0m \u001b[0mself\u001b[0m\u001b[0;34m.\u001b[0m\u001b[0mgateway_client\u001b[0m\u001b[0;34m.\u001b[0m\u001b[0msend_command\u001b[0m\u001b[0;34m(\u001b[0m\u001b[0mcommand\u001b[0m\u001b[0;34m)\u001b[0m\u001b[0;34m\u001b[0m\u001b[0;34m\u001b[0m\u001b[0m\n\u001b[0;32m-> 1322\u001b[0;31m         return_value = get_return_value(\n\u001b[0m\u001b[1;32m   1323\u001b[0m             answer, self.gateway_client, self.target_id, self.name)\n\u001b[1;32m   1324\u001b[0m \u001b[0;34m\u001b[0m\u001b[0m\n",
            "\u001b[0;32m/usr/local/lib/python3.11/dist-packages/pyspark/errors/exceptions/captured.py\u001b[0m in \u001b[0;36mdeco\u001b[0;34m(*a, **kw)\u001b[0m\n\u001b[1;32m    183\u001b[0m                 \u001b[0;31m# Hide where the exception came from that shows a non-Pythonic\u001b[0m\u001b[0;34m\u001b[0m\u001b[0;34m\u001b[0m\u001b[0m\n\u001b[1;32m    184\u001b[0m                 \u001b[0;31m# JVM exception message.\u001b[0m\u001b[0;34m\u001b[0m\u001b[0;34m\u001b[0m\u001b[0m\n\u001b[0;32m--> 185\u001b[0;31m                 \u001b[0;32mraise\u001b[0m \u001b[0mconverted\u001b[0m \u001b[0;32mfrom\u001b[0m \u001b[0;32mNone\u001b[0m\u001b[0;34m\u001b[0m\u001b[0;34m\u001b[0m\u001b[0m\n\u001b[0m\u001b[1;32m    186\u001b[0m             \u001b[0;32melse\u001b[0m\u001b[0;34m:\u001b[0m\u001b[0;34m\u001b[0m\u001b[0;34m\u001b[0m\u001b[0m\n\u001b[1;32m    187\u001b[0m                 \u001b[0;32mraise\u001b[0m\u001b[0;34m\u001b[0m\u001b[0;34m\u001b[0m\u001b[0m\n",
            "\u001b[0;31mAnalysisException\u001b[0m: [COLUMN_ALREADY_EXISTS] The column `likes` already exists. Consider to choose another name or rename the existing column."
          ]
        }
      ]
    }
  ]
}